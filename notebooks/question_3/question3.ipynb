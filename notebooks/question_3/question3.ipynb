{
 "cells": [
  {
   "cell_type": "markdown",
   "metadata": {},
   "source": [
    "# 3. How do availability and stay duration impact listing prices, and what strategies can hosts adopt to optimize their earnings?"
   ]
  },
  {
   "cell_type": "markdown",
   "metadata": {},
   "source": [
    "## Temporal trends in booking rates and pricing strategies"
   ]
  },
  {
   "cell_type": "code",
   "execution_count": 1,
   "metadata": {},
   "outputs": [],
   "source": [
    "import pandas as pd\n",
    "import matplotlib.pyplot as plt\n",
    "import seaborn as sns\n",
    "import plotly.express as px\n",
    "from PIL import Image\n",
    "import io\n",
    "\n",
    "# Load calendar data to process\n",
    "calendar = pd.read_csv('../../data/raw/airbnb/calendar.csv.gz', compression='gzip')\n",
    "\n",
    "# Given the availability is represented by f: false and t: true, which are not booleans we need to convert them to usable values (0 or 1)\n",
    "calendar['available'] = calendar['available'].apply(lambda x: 0 if x == 'f' else 1)\n",
    "\n",
    "# Extract month, year and day from date column in calendar\n",
    "calendar['date'] = pd.to_datetime(calendar['date'])\n",
    "calendar['month'] = calendar['date'].dt.month\n",
    "calendar['year'] = calendar['date'].dt.year\n",
    "calendar['weekday'] = calendar['date'].dt.weekday\n",
    "\n",
    "# Convert price column to float\n",
    "calendar['price'] = calendar['price'].str.replace(',', '').str.lstrip('$')\n",
    "calendar['price'] = calendar['price'].astype(float)"
   ]
  },
  {
   "cell_type": "code",
   "execution_count": 2,
   "metadata": {},
   "outputs": [],
   "source": [
    "# Function to remove outliers \n",
    "def remove_data_outliers(df, column, threshold=1.5):\n",
    "    \"\"\"\n",
    "    Detect and removel outliers usin InterQuartile Range according to a threshold (defaults to following the 1.5 . IQR rule).\n",
    "    Called alse Tukey Fences.\n",
    "    Args:\n",
    "        df (pandas.DataFrame): Dataframe to remove outliers from\n",
    "        column (str): Column to remove outliers from\n",
    "\n",
    "    Returns:\n",
    "        df_filtered (pandas.DataFrame): Dataframe with outliers removed\n",
    "\n",
    "    Notes:\n",
    "    Some references:\n",
    "    https://sphweb.bumc.bu.edu/otlt/mph-modules/bs/bs704_summarizingdata/bs704_summarizingdata7.html\n",
    "    https://stackoverflow.com/questions/74683825/how-do-i-remove-outliers-from-a-column-in-a-dataframe\n",
    "    https://www.kaggle.com/code/kenjee/dealing-with-outliers-section-5-2\n",
    "    \"\"\"\n",
    "    # Define the quartiles\n",
    "    Q1 = df[column].quantile(0.25)\n",
    "    Q3 = df[column].quantile(0.75)\n",
    "\n",
    "    # Define the interquartile range\n",
    "    IQR = Q3 - Q1\n",
    "\n",
    "    # Define the upper and lower bounds for the 1.5 . IQR rule\n",
    "    lower_bound = Q1 - threshold * IQR\n",
    "    upper_bound = Q3 + threshold * IQR\n",
    "\n",
    "    # filter out the outliers from df \n",
    "    df_filtered = df[(df[column] >= lower_bound) & (df[column] <= upper_bound)]\n",
    "    return df_filtered\n"
   ]
  },
  {
   "cell_type": "markdown",
   "metadata": {},
   "source": [
    "Now we compute the monthly booking rate which is an indication of popularity of a listing. Given we already have the availability data, we can extract the booking rate knowing that it is 1 - availability."
   ]
  },
  {
   "cell_type": "code",
   "execution_count": 3,
   "metadata": {},
   "outputs": [
    {
     "data": {
      "text/html": [
       "<div>\n",
       "<style scoped>\n",
       "    .dataframe tbody tr th:only-of-type {\n",
       "        vertical-align: middle;\n",
       "    }\n",
       "\n",
       "    .dataframe tbody tr th {\n",
       "        vertical-align: top;\n",
       "    }\n",
       "\n",
       "    .dataframe thead th {\n",
       "        text-align: right;\n",
       "    }\n",
       "</style>\n",
       "<table border=\"1\" class=\"dataframe\">\n",
       "  <thead>\n",
       "    <tr style=\"text-align: right;\">\n",
       "      <th></th>\n",
       "      <th>year</th>\n",
       "      <th>month</th>\n",
       "      <th>booking_rate</th>\n",
       "    </tr>\n",
       "  </thead>\n",
       "  <tbody>\n",
       "    <tr>\n",
       "      <th>0</th>\n",
       "      <td>2022</td>\n",
       "      <td>12</td>\n",
       "      <td>0.546428</td>\n",
       "    </tr>\n",
       "    <tr>\n",
       "      <th>1</th>\n",
       "      <td>2023</td>\n",
       "      <td>1</td>\n",
       "      <td>0.405745</td>\n",
       "    </tr>\n",
       "    <tr>\n",
       "      <th>2</th>\n",
       "      <td>2023</td>\n",
       "      <td>2</td>\n",
       "      <td>0.346060</td>\n",
       "    </tr>\n",
       "    <tr>\n",
       "      <th>3</th>\n",
       "      <td>2023</td>\n",
       "      <td>3</td>\n",
       "      <td>0.397756</td>\n",
       "    </tr>\n",
       "    <tr>\n",
       "      <th>4</th>\n",
       "      <td>2023</td>\n",
       "      <td>4</td>\n",
       "      <td>0.395305</td>\n",
       "    </tr>\n",
       "    <tr>\n",
       "      <th>5</th>\n",
       "      <td>2023</td>\n",
       "      <td>5</td>\n",
       "      <td>0.379294</td>\n",
       "    </tr>\n",
       "    <tr>\n",
       "      <th>6</th>\n",
       "      <td>2023</td>\n",
       "      <td>6</td>\n",
       "      <td>0.480532</td>\n",
       "    </tr>\n",
       "    <tr>\n",
       "      <th>7</th>\n",
       "      <td>2023</td>\n",
       "      <td>7</td>\n",
       "      <td>0.492778</td>\n",
       "    </tr>\n",
       "    <tr>\n",
       "      <th>8</th>\n",
       "      <td>2023</td>\n",
       "      <td>8</td>\n",
       "      <td>0.489069</td>\n",
       "    </tr>\n",
       "    <tr>\n",
       "      <th>9</th>\n",
       "      <td>2023</td>\n",
       "      <td>9</td>\n",
       "      <td>0.513750</td>\n",
       "    </tr>\n",
       "    <tr>\n",
       "      <th>10</th>\n",
       "      <td>2023</td>\n",
       "      <td>10</td>\n",
       "      <td>0.513478</td>\n",
       "    </tr>\n",
       "    <tr>\n",
       "      <th>11</th>\n",
       "      <td>2023</td>\n",
       "      <td>11</td>\n",
       "      <td>0.514692</td>\n",
       "    </tr>\n",
       "    <tr>\n",
       "      <th>12</th>\n",
       "      <td>2023</td>\n",
       "      <td>12</td>\n",
       "      <td>0.531845</td>\n",
       "    </tr>\n",
       "  </tbody>\n",
       "</table>\n",
       "</div>"
      ],
      "text/plain": [
       "    year  month  booking_rate\n",
       "0   2022     12      0.546428\n",
       "1   2023      1      0.405745\n",
       "2   2023      2      0.346060\n",
       "3   2023      3      0.397756\n",
       "4   2023      4      0.395305\n",
       "5   2023      5      0.379294\n",
       "6   2023      6      0.480532\n",
       "7   2023      7      0.492778\n",
       "8   2023      8      0.489069\n",
       "9   2023      9      0.513750\n",
       "10  2023     10      0.513478\n",
       "11  2023     11      0.514692\n",
       "12  2023     12      0.531845"
      ]
     },
     "execution_count": 3,
     "metadata": {},
     "output_type": "execute_result"
    }
   ],
   "source": [
    "# compute the monthly booking rate\n",
    "booking_monthly_rate = calendar.groupby(['year', 'month'])['available'].apply(lambda x: 1 - x.mean()).reset_index()\n",
    "# rename the available column to booking rate\n",
    "booking_monthly_rate.rename(columns={'available': 'booking_rate'}, inplace=True)\n",
    "booking_monthly_rate\n",
    "\n"
   ]
  },
  {
   "cell_type": "code",
   "execution_count": 4,
   "metadata": {},
   "outputs": [
    {
     "data": {
      "text/html": [
       "<div>\n",
       "<style scoped>\n",
       "    .dataframe tbody tr th:only-of-type {\n",
       "        vertical-align: middle;\n",
       "    }\n",
       "\n",
       "    .dataframe tbody tr th {\n",
       "        vertical-align: top;\n",
       "    }\n",
       "\n",
       "    .dataframe thead th {\n",
       "        text-align: right;\n",
       "    }\n",
       "</style>\n",
       "<table border=\"1\" class=\"dataframe\">\n",
       "  <thead>\n",
       "    <tr style=\"text-align: right;\">\n",
       "      <th></th>\n",
       "      <th>listing_id</th>\n",
       "      <th>date</th>\n",
       "      <th>available</th>\n",
       "      <th>price</th>\n",
       "      <th>adjusted_price</th>\n",
       "      <th>minimum_nights</th>\n",
       "      <th>maximum_nights</th>\n",
       "      <th>month</th>\n",
       "      <th>year</th>\n",
       "      <th>weekday</th>\n",
       "    </tr>\n",
       "  </thead>\n",
       "  <tbody>\n",
       "    <tr>\n",
       "      <th>0</th>\n",
       "      <td>109</td>\n",
       "      <td>2022-12-07</td>\n",
       "      <td>0</td>\n",
       "      <td>115.0</td>\n",
       "      <td>$115.00</td>\n",
       "      <td>30.0</td>\n",
       "      <td>730.0</td>\n",
       "      <td>12</td>\n",
       "      <td>2022</td>\n",
       "      <td>2</td>\n",
       "    </tr>\n",
       "    <tr>\n",
       "      <th>1</th>\n",
       "      <td>109</td>\n",
       "      <td>2022-12-08</td>\n",
       "      <td>0</td>\n",
       "      <td>115.0</td>\n",
       "      <td>$115.00</td>\n",
       "      <td>30.0</td>\n",
       "      <td>730.0</td>\n",
       "      <td>12</td>\n",
       "      <td>2022</td>\n",
       "      <td>3</td>\n",
       "    </tr>\n",
       "    <tr>\n",
       "      <th>2</th>\n",
       "      <td>109</td>\n",
       "      <td>2022-12-09</td>\n",
       "      <td>0</td>\n",
       "      <td>115.0</td>\n",
       "      <td>$115.00</td>\n",
       "      <td>30.0</td>\n",
       "      <td>730.0</td>\n",
       "      <td>12</td>\n",
       "      <td>2022</td>\n",
       "      <td>4</td>\n",
       "    </tr>\n",
       "    <tr>\n",
       "      <th>3</th>\n",
       "      <td>109</td>\n",
       "      <td>2022-12-10</td>\n",
       "      <td>0</td>\n",
       "      <td>115.0</td>\n",
       "      <td>$115.00</td>\n",
       "      <td>30.0</td>\n",
       "      <td>730.0</td>\n",
       "      <td>12</td>\n",
       "      <td>2022</td>\n",
       "      <td>5</td>\n",
       "    </tr>\n",
       "    <tr>\n",
       "      <th>4</th>\n",
       "      <td>109</td>\n",
       "      <td>2022-12-11</td>\n",
       "      <td>0</td>\n",
       "      <td>115.0</td>\n",
       "      <td>$115.00</td>\n",
       "      <td>30.0</td>\n",
       "      <td>730.0</td>\n",
       "      <td>12</td>\n",
       "      <td>2022</td>\n",
       "      <td>6</td>\n",
       "    </tr>\n",
       "    <tr>\n",
       "      <th>...</th>\n",
       "      <td>...</td>\n",
       "      <td>...</td>\n",
       "      <td>...</td>\n",
       "      <td>...</td>\n",
       "      <td>...</td>\n",
       "      <td>...</td>\n",
       "      <td>...</td>\n",
       "      <td>...</td>\n",
       "      <td>...</td>\n",
       "      <td>...</td>\n",
       "    </tr>\n",
       "    <tr>\n",
       "      <th>13324694</th>\n",
       "      <td>775316807460359720</td>\n",
       "      <td>2023-12-02</td>\n",
       "      <td>0</td>\n",
       "      <td>500.0</td>\n",
       "      <td>$500.00</td>\n",
       "      <td>7.0</td>\n",
       "      <td>365.0</td>\n",
       "      <td>12</td>\n",
       "      <td>2023</td>\n",
       "      <td>5</td>\n",
       "    </tr>\n",
       "    <tr>\n",
       "      <th>13324695</th>\n",
       "      <td>775316807460359720</td>\n",
       "      <td>2023-12-03</td>\n",
       "      <td>0</td>\n",
       "      <td>500.0</td>\n",
       "      <td>$500.00</td>\n",
       "      <td>7.0</td>\n",
       "      <td>365.0</td>\n",
       "      <td>12</td>\n",
       "      <td>2023</td>\n",
       "      <td>6</td>\n",
       "    </tr>\n",
       "    <tr>\n",
       "      <th>13324696</th>\n",
       "      <td>775316807460359720</td>\n",
       "      <td>2023-12-04</td>\n",
       "      <td>0</td>\n",
       "      <td>500.0</td>\n",
       "      <td>$500.00</td>\n",
       "      <td>7.0</td>\n",
       "      <td>365.0</td>\n",
       "      <td>12</td>\n",
       "      <td>2023</td>\n",
       "      <td>0</td>\n",
       "    </tr>\n",
       "    <tr>\n",
       "      <th>13324697</th>\n",
       "      <td>775316807460359720</td>\n",
       "      <td>2023-12-05</td>\n",
       "      <td>0</td>\n",
       "      <td>500.0</td>\n",
       "      <td>$500.00</td>\n",
       "      <td>7.0</td>\n",
       "      <td>365.0</td>\n",
       "      <td>12</td>\n",
       "      <td>2023</td>\n",
       "      <td>1</td>\n",
       "    </tr>\n",
       "    <tr>\n",
       "      <th>13324698</th>\n",
       "      <td>775316807460359720</td>\n",
       "      <td>2023-12-06</td>\n",
       "      <td>0</td>\n",
       "      <td>500.0</td>\n",
       "      <td>$500.00</td>\n",
       "      <td>7.0</td>\n",
       "      <td>365.0</td>\n",
       "      <td>12</td>\n",
       "      <td>2023</td>\n",
       "      <td>2</td>\n",
       "    </tr>\n",
       "  </tbody>\n",
       "</table>\n",
       "<p>13324699 rows × 10 columns</p>\n",
       "</div>"
      ],
      "text/plain": [
       "                  listing_id       date  available  price adjusted_price   \n",
       "0                        109 2022-12-07          0  115.0        $115.00  \\\n",
       "1                        109 2022-12-08          0  115.0        $115.00   \n",
       "2                        109 2022-12-09          0  115.0        $115.00   \n",
       "3                        109 2022-12-10          0  115.0        $115.00   \n",
       "4                        109 2022-12-11          0  115.0        $115.00   \n",
       "...                      ...        ...        ...    ...            ...   \n",
       "13324694  775316807460359720 2023-12-02          0  500.0        $500.00   \n",
       "13324695  775316807460359720 2023-12-03          0  500.0        $500.00   \n",
       "13324696  775316807460359720 2023-12-04          0  500.0        $500.00   \n",
       "13324697  775316807460359720 2023-12-05          0  500.0        $500.00   \n",
       "13324698  775316807460359720 2023-12-06          0  500.0        $500.00   \n",
       "\n",
       "          minimum_nights  maximum_nights  month  year  weekday  \n",
       "0                   30.0           730.0     12  2022        2  \n",
       "1                   30.0           730.0     12  2022        3  \n",
       "2                   30.0           730.0     12  2022        4  \n",
       "3                   30.0           730.0     12  2022        5  \n",
       "4                   30.0           730.0     12  2022        6  \n",
       "...                  ...             ...    ...   ...      ...  \n",
       "13324694             7.0           365.0     12  2023        5  \n",
       "13324695             7.0           365.0     12  2023        6  \n",
       "13324696             7.0           365.0     12  2023        0  \n",
       "13324697             7.0           365.0     12  2023        1  \n",
       "13324698             7.0           365.0     12  2023        2  \n",
       "\n",
       "[13324699 rows x 10 columns]"
      ]
     },
     "execution_count": 4,
     "metadata": {},
     "output_type": "execute_result"
    }
   ],
   "source": [
    "# remove prices 0\n",
    "filtered_calendar = calendar[calendar['price'] != 0]\n",
    "filtered_calendar = filtered_calendar.groupby(['year', 'month']).apply(remove_data_outliers, 'price').reset_index(drop=True)\n",
    "\n",
    "filtered_calendar"
   ]
  },
  {
   "cell_type": "code",
   "execution_count": 5,
   "metadata": {},
   "outputs": [
    {
     "data": {
      "text/html": [
       "<div>\n",
       "<style scoped>\n",
       "    .dataframe tbody tr th:only-of-type {\n",
       "        vertical-align: middle;\n",
       "    }\n",
       "\n",
       "    .dataframe tbody tr th {\n",
       "        vertical-align: top;\n",
       "    }\n",
       "\n",
       "    .dataframe thead th {\n",
       "        text-align: right;\n",
       "    }\n",
       "</style>\n",
       "<table border=\"1\" class=\"dataframe\">\n",
       "  <thead>\n",
       "    <tr style=\"text-align: right;\">\n",
       "      <th></th>\n",
       "      <th>year</th>\n",
       "      <th>month</th>\n",
       "      <th>price</th>\n",
       "    </tr>\n",
       "  </thead>\n",
       "  <tbody>\n",
       "    <tr>\n",
       "      <th>0</th>\n",
       "      <td>2022</td>\n",
       "      <td>12</td>\n",
       "      <td>155.005255</td>\n",
       "    </tr>\n",
       "    <tr>\n",
       "      <th>1</th>\n",
       "      <td>2023</td>\n",
       "      <td>1</td>\n",
       "      <td>163.891522</td>\n",
       "    </tr>\n",
       "    <tr>\n",
       "      <th>2</th>\n",
       "      <td>2023</td>\n",
       "      <td>2</td>\n",
       "      <td>165.703327</td>\n",
       "    </tr>\n",
       "    <tr>\n",
       "      <th>3</th>\n",
       "      <td>2023</td>\n",
       "      <td>3</td>\n",
       "      <td>164.839070</td>\n",
       "    </tr>\n",
       "    <tr>\n",
       "      <th>4</th>\n",
       "      <td>2023</td>\n",
       "      <td>4</td>\n",
       "      <td>167.399223</td>\n",
       "    </tr>\n",
       "    <tr>\n",
       "      <th>5</th>\n",
       "      <td>2023</td>\n",
       "      <td>5</td>\n",
       "      <td>169.680753</td>\n",
       "    </tr>\n",
       "    <tr>\n",
       "      <th>6</th>\n",
       "      <td>2023</td>\n",
       "      <td>6</td>\n",
       "      <td>171.876937</td>\n",
       "    </tr>\n",
       "    <tr>\n",
       "      <th>7</th>\n",
       "      <td>2023</td>\n",
       "      <td>7</td>\n",
       "      <td>172.410037</td>\n",
       "    </tr>\n",
       "    <tr>\n",
       "      <th>8</th>\n",
       "      <td>2023</td>\n",
       "      <td>8</td>\n",
       "      <td>171.753666</td>\n",
       "    </tr>\n",
       "    <tr>\n",
       "      <th>9</th>\n",
       "      <td>2023</td>\n",
       "      <td>9</td>\n",
       "      <td>170.955468</td>\n",
       "    </tr>\n",
       "    <tr>\n",
       "      <th>10</th>\n",
       "      <td>2023</td>\n",
       "      <td>10</td>\n",
       "      <td>170.410898</td>\n",
       "    </tr>\n",
       "    <tr>\n",
       "      <th>11</th>\n",
       "      <td>2023</td>\n",
       "      <td>11</td>\n",
       "      <td>168.901637</td>\n",
       "    </tr>\n",
       "    <tr>\n",
       "      <th>12</th>\n",
       "      <td>2023</td>\n",
       "      <td>12</td>\n",
       "      <td>168.574593</td>\n",
       "    </tr>\n",
       "  </tbody>\n",
       "</table>\n",
       "</div>"
      ],
      "text/plain": [
       "    year  month       price\n",
       "0   2022     12  155.005255\n",
       "1   2023      1  163.891522\n",
       "2   2023      2  165.703327\n",
       "3   2023      3  164.839070\n",
       "4   2023      4  167.399223\n",
       "5   2023      5  169.680753\n",
       "6   2023      6  171.876937\n",
       "7   2023      7  172.410037\n",
       "8   2023      8  171.753666\n",
       "9   2023      9  170.955468\n",
       "10  2023     10  170.410898\n",
       "11  2023     11  168.901637\n",
       "12  2023     12  168.574593"
      ]
     },
     "execution_count": 5,
     "metadata": {},
     "output_type": "execute_result"
    }
   ],
   "source": [
    "# Compute the filtered monthly average price per month\n",
    "\n",
    "monthly_avg_price = filtered_calendar.groupby(['year', 'month'])['price'].mean().reset_index()\n",
    "monthly_avg_price"
   ]
  },
  {
   "cell_type": "code",
   "execution_count": 6,
   "metadata": {},
   "outputs": [
    {
     "data": {
      "text/html": [
       "<div>\n",
       "<style scoped>\n",
       "    .dataframe tbody tr th:only-of-type {\n",
       "        vertical-align: middle;\n",
       "    }\n",
       "\n",
       "    .dataframe tbody tr th {\n",
       "        vertical-align: top;\n",
       "    }\n",
       "\n",
       "    .dataframe thead th {\n",
       "        text-align: right;\n",
       "    }\n",
       "</style>\n",
       "<table border=\"1\" class=\"dataframe\">\n",
       "  <thead>\n",
       "    <tr style=\"text-align: right;\">\n",
       "      <th></th>\n",
       "      <th>year</th>\n",
       "      <th>month</th>\n",
       "      <th>listing_id</th>\n",
       "    </tr>\n",
       "  </thead>\n",
       "  <tbody>\n",
       "    <tr>\n",
       "      <th>0</th>\n",
       "      <td>2022</td>\n",
       "      <td>12</td>\n",
       "      <td>36892</td>\n",
       "    </tr>\n",
       "    <tr>\n",
       "      <th>1</th>\n",
       "      <td>2023</td>\n",
       "      <td>1</td>\n",
       "      <td>36993</td>\n",
       "    </tr>\n",
       "    <tr>\n",
       "      <th>2</th>\n",
       "      <td>2023</td>\n",
       "      <td>2</td>\n",
       "      <td>36941</td>\n",
       "    </tr>\n",
       "    <tr>\n",
       "      <th>3</th>\n",
       "      <td>2023</td>\n",
       "      <td>3</td>\n",
       "      <td>36787</td>\n",
       "    </tr>\n",
       "    <tr>\n",
       "      <th>4</th>\n",
       "      <td>2023</td>\n",
       "      <td>4</td>\n",
       "      <td>36777</td>\n",
       "    </tr>\n",
       "    <tr>\n",
       "      <th>5</th>\n",
       "      <td>2023</td>\n",
       "      <td>5</td>\n",
       "      <td>36900</td>\n",
       "    </tr>\n",
       "    <tr>\n",
       "      <th>6</th>\n",
       "      <td>2023</td>\n",
       "      <td>6</td>\n",
       "      <td>36780</td>\n",
       "    </tr>\n",
       "    <tr>\n",
       "      <th>7</th>\n",
       "      <td>2023</td>\n",
       "      <td>7</td>\n",
       "      <td>36683</td>\n",
       "    </tr>\n",
       "    <tr>\n",
       "      <th>8</th>\n",
       "      <td>2023</td>\n",
       "      <td>8</td>\n",
       "      <td>36747</td>\n",
       "    </tr>\n",
       "    <tr>\n",
       "      <th>9</th>\n",
       "      <td>2023</td>\n",
       "      <td>9</td>\n",
       "      <td>36827</td>\n",
       "    </tr>\n",
       "    <tr>\n",
       "      <th>10</th>\n",
       "      <td>2023</td>\n",
       "      <td>10</td>\n",
       "      <td>36855</td>\n",
       "    </tr>\n",
       "    <tr>\n",
       "      <th>11</th>\n",
       "      <td>2023</td>\n",
       "      <td>11</td>\n",
       "      <td>36784</td>\n",
       "    </tr>\n",
       "    <tr>\n",
       "      <th>12</th>\n",
       "      <td>2023</td>\n",
       "      <td>12</td>\n",
       "      <td>36775</td>\n",
       "    </tr>\n",
       "  </tbody>\n",
       "</table>\n",
       "</div>"
      ],
      "text/plain": [
       "    year  month  listing_id\n",
       "0   2022     12       36892\n",
       "1   2023      1       36993\n",
       "2   2023      2       36941\n",
       "3   2023      3       36787\n",
       "4   2023      4       36777\n",
       "5   2023      5       36900\n",
       "6   2023      6       36780\n",
       "7   2023      7       36683\n",
       "8   2023      8       36747\n",
       "9   2023      9       36827\n",
       "10  2023     10       36855\n",
       "11  2023     11       36784\n",
       "12  2023     12       36775"
      ]
     },
     "execution_count": 6,
     "metadata": {},
     "output_type": "execute_result"
    }
   ],
   "source": [
    "listings_offering = filtered_calendar.groupby(['year', 'month'])['listing_id'].nunique().reset_index()\n",
    "listings_offering"
   ]
  },
  {
   "cell_type": "code",
   "execution_count": 7,
   "metadata": {},
   "outputs": [
    {
     "data": {
      "text/html": [
       "<div>\n",
       "<style scoped>\n",
       "    .dataframe tbody tr th:only-of-type {\n",
       "        vertical-align: middle;\n",
       "    }\n",
       "\n",
       "    .dataframe tbody tr th {\n",
       "        vertical-align: top;\n",
       "    }\n",
       "\n",
       "    .dataframe thead th {\n",
       "        text-align: right;\n",
       "    }\n",
       "</style>\n",
       "<table border=\"1\" class=\"dataframe\">\n",
       "  <thead>\n",
       "    <tr style=\"text-align: right;\">\n",
       "      <th></th>\n",
       "      <th></th>\n",
       "      <th>count</th>\n",
       "      <th>mean</th>\n",
       "      <th>std</th>\n",
       "      <th>min</th>\n",
       "      <th>25%</th>\n",
       "      <th>50%</th>\n",
       "      <th>75%</th>\n",
       "      <th>max</th>\n",
       "    </tr>\n",
       "    <tr>\n",
       "      <th>year</th>\n",
       "      <th>month</th>\n",
       "      <th></th>\n",
       "      <th></th>\n",
       "      <th></th>\n",
       "      <th></th>\n",
       "      <th></th>\n",
       "      <th></th>\n",
       "      <th></th>\n",
       "      <th></th>\n",
       "    </tr>\n",
       "  </thead>\n",
       "  <tbody>\n",
       "    <tr>\n",
       "      <th>2022</th>\n",
       "      <th>12</th>\n",
       "      <td>910486.0</td>\n",
       "      <td>155.005255</td>\n",
       "      <td>98.829878</td>\n",
       "      <td>10.0</td>\n",
       "      <td>80.0</td>\n",
       "      <td>129.0</td>\n",
       "      <td>200.0</td>\n",
       "      <td>493.0</td>\n",
       "    </tr>\n",
       "    <tr>\n",
       "      <th rowspan=\"12\" valign=\"top\">2023</th>\n",
       "      <th>1</th>\n",
       "      <td>1134341.0</td>\n",
       "      <td>163.891522</td>\n",
       "      <td>107.162512</td>\n",
       "      <td>10.0</td>\n",
       "      <td>85.0</td>\n",
       "      <td>135.0</td>\n",
       "      <td>215.0</td>\n",
       "      <td>514.0</td>\n",
       "    </tr>\n",
       "    <tr>\n",
       "      <th>2</th>\n",
       "      <td>1024510.0</td>\n",
       "      <td>165.703327</td>\n",
       "      <td>109.397118</td>\n",
       "      <td>10.0</td>\n",
       "      <td>85.0</td>\n",
       "      <td>136.0</td>\n",
       "      <td>219.0</td>\n",
       "      <td>529.0</td>\n",
       "    </tr>\n",
       "    <tr>\n",
       "      <th>3</th>\n",
       "      <td>1132190.0</td>\n",
       "      <td>164.839070</td>\n",
       "      <td>109.336163</td>\n",
       "      <td>10.0</td>\n",
       "      <td>85.0</td>\n",
       "      <td>135.0</td>\n",
       "      <td>217.0</td>\n",
       "      <td>529.0</td>\n",
       "    </tr>\n",
       "    <tr>\n",
       "      <th>4</th>\n",
       "      <td>1094943.0</td>\n",
       "      <td>167.399223</td>\n",
       "      <td>110.726830</td>\n",
       "      <td>10.0</td>\n",
       "      <td>85.0</td>\n",
       "      <td>139.0</td>\n",
       "      <td>220.0</td>\n",
       "      <td>540.0</td>\n",
       "    </tr>\n",
       "    <tr>\n",
       "      <th>5</th>\n",
       "      <td>1135014.0</td>\n",
       "      <td>169.680753</td>\n",
       "      <td>113.770530</td>\n",
       "      <td>10.0</td>\n",
       "      <td>86.0</td>\n",
       "      <td>139.0</td>\n",
       "      <td>224.0</td>\n",
       "      <td>550.0</td>\n",
       "    </tr>\n",
       "    <tr>\n",
       "      <th>6</th>\n",
       "      <td>1094862.0</td>\n",
       "      <td>171.876937</td>\n",
       "      <td>115.453000</td>\n",
       "      <td>10.0</td>\n",
       "      <td>88.0</td>\n",
       "      <td>140.0</td>\n",
       "      <td>225.0</td>\n",
       "      <td>562.0</td>\n",
       "    </tr>\n",
       "    <tr>\n",
       "      <th>7</th>\n",
       "      <td>1127879.0</td>\n",
       "      <td>172.410037</td>\n",
       "      <td>116.578092</td>\n",
       "      <td>10.0</td>\n",
       "      <td>88.0</td>\n",
       "      <td>140.0</td>\n",
       "      <td>225.0</td>\n",
       "      <td>570.0</td>\n",
       "    </tr>\n",
       "    <tr>\n",
       "      <th>8</th>\n",
       "      <td>1129675.0</td>\n",
       "      <td>171.753666</td>\n",
       "      <td>115.564587</td>\n",
       "      <td>10.0</td>\n",
       "      <td>88.0</td>\n",
       "      <td>140.0</td>\n",
       "      <td>225.0</td>\n",
       "      <td>562.0</td>\n",
       "    </tr>\n",
       "    <tr>\n",
       "      <th>9</th>\n",
       "      <td>1097098.0</td>\n",
       "      <td>170.955468</td>\n",
       "      <td>114.032940</td>\n",
       "      <td>10.0</td>\n",
       "      <td>88.0</td>\n",
       "      <td>140.0</td>\n",
       "      <td>225.0</td>\n",
       "      <td>552.0</td>\n",
       "    </tr>\n",
       "    <tr>\n",
       "      <th>10</th>\n",
       "      <td>1135480.0</td>\n",
       "      <td>170.410898</td>\n",
       "      <td>113.564894</td>\n",
       "      <td>10.0</td>\n",
       "      <td>88.0</td>\n",
       "      <td>140.0</td>\n",
       "      <td>224.0</td>\n",
       "      <td>550.0</td>\n",
       "    </tr>\n",
       "    <tr>\n",
       "      <th>11</th>\n",
       "      <td>1095352.0</td>\n",
       "      <td>168.901637</td>\n",
       "      <td>110.870534</td>\n",
       "      <td>10.0</td>\n",
       "      <td>88.0</td>\n",
       "      <td>140.0</td>\n",
       "      <td>221.0</td>\n",
       "      <td>542.0</td>\n",
       "    </tr>\n",
       "    <tr>\n",
       "      <th>12</th>\n",
       "      <td>212869.0</td>\n",
       "      <td>168.574593</td>\n",
       "      <td>110.434831</td>\n",
       "      <td>10.0</td>\n",
       "      <td>89.0</td>\n",
       "      <td>139.0</td>\n",
       "      <td>220.0</td>\n",
       "      <td>540.0</td>\n",
       "    </tr>\n",
       "  </tbody>\n",
       "</table>\n",
       "</div>"
      ],
      "text/plain": [
       "                count        mean         std   min   25%    50%    75%    max\n",
       "year month                                                                    \n",
       "2022 12      910486.0  155.005255   98.829878  10.0  80.0  129.0  200.0  493.0\n",
       "2023 1      1134341.0  163.891522  107.162512  10.0  85.0  135.0  215.0  514.0\n",
       "     2      1024510.0  165.703327  109.397118  10.0  85.0  136.0  219.0  529.0\n",
       "     3      1132190.0  164.839070  109.336163  10.0  85.0  135.0  217.0  529.0\n",
       "     4      1094943.0  167.399223  110.726830  10.0  85.0  139.0  220.0  540.0\n",
       "     5      1135014.0  169.680753  113.770530  10.0  86.0  139.0  224.0  550.0\n",
       "     6      1094862.0  171.876937  115.453000  10.0  88.0  140.0  225.0  562.0\n",
       "     7      1127879.0  172.410037  116.578092  10.0  88.0  140.0  225.0  570.0\n",
       "     8      1129675.0  171.753666  115.564587  10.0  88.0  140.0  225.0  562.0\n",
       "     9      1097098.0  170.955468  114.032940  10.0  88.0  140.0  225.0  552.0\n",
       "     10     1135480.0  170.410898  113.564894  10.0  88.0  140.0  224.0  550.0\n",
       "     11     1095352.0  168.901637  110.870534  10.0  88.0  140.0  221.0  542.0\n",
       "     12      212869.0  168.574593  110.434831  10.0  89.0  139.0  220.0  540.0"
      ]
     },
     "execution_count": 7,
     "metadata": {},
     "output_type": "execute_result"
    }
   ],
   "source": [
    "filtered_calendar.groupby(['year', 'month'])['price'].describe()"
   ]
  },
  {
   "cell_type": "code",
   "execution_count": 8,
   "metadata": {},
   "outputs": [
    {
     "data": {
      "image/png": "[encoded data removed]",
      "text/plain": [
       "<Figure size 640x480 with 2 Axes>"
      ]
     },
     "metadata": {},
     "output_type": "display_data"
    }
   ],
   "source": [
    "fig, ax1 = plt.subplots()\n",
    "\n",
    "# Plot monthly booking rate\n",
    "sns.lineplot(data=booking_monthly_rate, x='month', y='booking_rate', color='red', ax=ax1, label='Booking Rate')\n",
    "ax1.set_xlabel('Month')\n",
    "ax1.set_ylabel('Booking Rate')\n",
    "ax1.set_title('Monthly Booking Rate and Average Price')\n",
    "\n",
    "# Plot monthly average price \n",
    "ax2 = ax1.twinx()\n",
    "sns.lineplot(data=monthly_avg_price, x='month', y='price', color='blue', ax=ax2, label='Average Price')\n",
    "ax2.set_ylabel('Average Price ($)')\n",
    "\n",
    "# Save the plots to a png file\n",
    "plt.savefig('../../reports/figures/question_3/monthly_booking_rate_and_average_price.png', bbox_inches='tight')\n",
    "\n",
    "plt.show()\n"
   ]
  },
  {
   "cell_type": "code",
   "execution_count": 9,
   "metadata": {},
   "outputs": [
    {
     "data": {
      "image/png": "[encoded data removed]",
      "text/plain": [
       "<Figure size 640x480 with 2 Axes>"
      ]
     },
     "metadata": {},
     "output_type": "display_data"
    }
   ],
   "source": [
    "fig, ax1 = plt.subplots()\n",
    "\n",
    "# Plot monthly booking rate\n",
    "sns.lineplot(data=booking_monthly_rate, x='month', y='booking_rate', color='red', ax=ax1, label='Booking Rate')\n",
    "ax1.set_xlabel('Month')\n",
    "ax1.set_ylabel('Booking Rate')\n",
    "ax1.set_title('Monthly Booking Rate and Monthly Number of Listings')\n",
    "\n",
    "# Plot monthly average price \n",
    "ax2 = ax1.twinx()\n",
    "sns.lineplot(data=listings_offering, x='month', y='listing_id', color='blue', ax=ax2, label='Number of Listings')\n",
    "ax2.set_ylabel('Number of Listings')\n",
    "\n",
    "# Save the plots to a png file\n",
    "plt.savefig('../../reports/figures/question_3/monthly_booking_rate_and_monthly_number_of_listings.png', bbox_inches='tight')\n",
    "\n",
    "plt.show()\n"
   ]
  },
  {
   "cell_type": "code",
   "execution_count": 10,
   "metadata": {},
   "outputs": [
    {
     "data": {
      "text/html": [
       "<div>\n",
       "<style scoped>\n",
       "    .dataframe tbody tr th:only-of-type {\n",
       "        vertical-align: middle;\n",
       "    }\n",
       "\n",
       "    .dataframe tbody tr th {\n",
       "        vertical-align: top;\n",
       "    }\n",
       "\n",
       "    .dataframe thead th {\n",
       "        text-align: right;\n",
       "    }\n",
       "</style>\n",
       "<table border=\"1\" class=\"dataframe\">\n",
       "  <thead>\n",
       "    <tr style=\"text-align: right;\">\n",
       "      <th></th>\n",
       "      <th>year</th>\n",
       "      <th>month</th>\n",
       "      <th>booking_rate</th>\n",
       "    </tr>\n",
       "  </thead>\n",
       "  <tbody>\n",
       "    <tr>\n",
       "      <th>0</th>\n",
       "      <td>2022</td>\n",
       "      <td>12</td>\n",
       "      <td>0.546428</td>\n",
       "    </tr>\n",
       "    <tr>\n",
       "      <th>1</th>\n",
       "      <td>2023</td>\n",
       "      <td>1</td>\n",
       "      <td>0.405745</td>\n",
       "    </tr>\n",
       "    <tr>\n",
       "      <th>2</th>\n",
       "      <td>2023</td>\n",
       "      <td>2</td>\n",
       "      <td>0.346060</td>\n",
       "    </tr>\n",
       "    <tr>\n",
       "      <th>3</th>\n",
       "      <td>2023</td>\n",
       "      <td>3</td>\n",
       "      <td>0.397756</td>\n",
       "    </tr>\n",
       "    <tr>\n",
       "      <th>4</th>\n",
       "      <td>2023</td>\n",
       "      <td>4</td>\n",
       "      <td>0.395305</td>\n",
       "    </tr>\n",
       "    <tr>\n",
       "      <th>5</th>\n",
       "      <td>2023</td>\n",
       "      <td>5</td>\n",
       "      <td>0.379294</td>\n",
       "    </tr>\n",
       "    <tr>\n",
       "      <th>6</th>\n",
       "      <td>2023</td>\n",
       "      <td>6</td>\n",
       "      <td>0.480532</td>\n",
       "    </tr>\n",
       "    <tr>\n",
       "      <th>7</th>\n",
       "      <td>2023</td>\n",
       "      <td>7</td>\n",
       "      <td>0.492778</td>\n",
       "    </tr>\n",
       "    <tr>\n",
       "      <th>8</th>\n",
       "      <td>2023</td>\n",
       "      <td>8</td>\n",
       "      <td>0.489069</td>\n",
       "    </tr>\n",
       "    <tr>\n",
       "      <th>9</th>\n",
       "      <td>2023</td>\n",
       "      <td>9</td>\n",
       "      <td>0.513750</td>\n",
       "    </tr>\n",
       "    <tr>\n",
       "      <th>10</th>\n",
       "      <td>2023</td>\n",
       "      <td>10</td>\n",
       "      <td>0.513478</td>\n",
       "    </tr>\n",
       "    <tr>\n",
       "      <th>11</th>\n",
       "      <td>2023</td>\n",
       "      <td>11</td>\n",
       "      <td>0.514692</td>\n",
       "    </tr>\n",
       "    <tr>\n",
       "      <th>12</th>\n",
       "      <td>2023</td>\n",
       "      <td>12</td>\n",
       "      <td>0.531845</td>\n",
       "    </tr>\n",
       "  </tbody>\n",
       "</table>\n",
       "</div>"
      ],
      "text/plain": [
       "    year  month  booking_rate\n",
       "0   2022     12      0.546428\n",
       "1   2023      1      0.405745\n",
       "2   2023      2      0.346060\n",
       "3   2023      3      0.397756\n",
       "4   2023      4      0.395305\n",
       "5   2023      5      0.379294\n",
       "6   2023      6      0.480532\n",
       "7   2023      7      0.492778\n",
       "8   2023      8      0.489069\n",
       "9   2023      9      0.513750\n",
       "10  2023     10      0.513478\n",
       "11  2023     11      0.514692\n",
       "12  2023     12      0.531845"
      ]
     },
     "execution_count": 10,
     "metadata": {},
     "output_type": "execute_result"
    }
   ],
   "source": [
    "booking_monthly_rate"
   ]
  },
  {
   "cell_type": "code",
   "execution_count": 11,
   "metadata": {},
   "outputs": [
    {
     "data": {
      "text/html": [
       "<div>\n",
       "<style scoped>\n",
       "    .dataframe tbody tr th:only-of-type {\n",
       "        vertical-align: middle;\n",
       "    }\n",
       "\n",
       "    .dataframe tbody tr th {\n",
       "        vertical-align: top;\n",
       "    }\n",
       "\n",
       "    .dataframe thead th {\n",
       "        text-align: right;\n",
       "    }\n",
       "</style>\n",
       "<table border=\"1\" class=\"dataframe\">\n",
       "  <thead>\n",
       "    <tr style=\"text-align: right;\">\n",
       "      <th></th>\n",
       "      <th>year</th>\n",
       "      <th>month</th>\n",
       "      <th>price</th>\n",
       "    </tr>\n",
       "  </thead>\n",
       "  <tbody>\n",
       "    <tr>\n",
       "      <th>0</th>\n",
       "      <td>2022</td>\n",
       "      <td>12</td>\n",
       "      <td>155.005255</td>\n",
       "    </tr>\n",
       "    <tr>\n",
       "      <th>1</th>\n",
       "      <td>2023</td>\n",
       "      <td>1</td>\n",
       "      <td>163.891522</td>\n",
       "    </tr>\n",
       "    <tr>\n",
       "      <th>2</th>\n",
       "      <td>2023</td>\n",
       "      <td>2</td>\n",
       "      <td>165.703327</td>\n",
       "    </tr>\n",
       "    <tr>\n",
       "      <th>3</th>\n",
       "      <td>2023</td>\n",
       "      <td>3</td>\n",
       "      <td>164.839070</td>\n",
       "    </tr>\n",
       "    <tr>\n",
       "      <th>4</th>\n",
       "      <td>2023</td>\n",
       "      <td>4</td>\n",
       "      <td>167.399223</td>\n",
       "    </tr>\n",
       "    <tr>\n",
       "      <th>5</th>\n",
       "      <td>2023</td>\n",
       "      <td>5</td>\n",
       "      <td>169.680753</td>\n",
       "    </tr>\n",
       "    <tr>\n",
       "      <th>6</th>\n",
       "      <td>2023</td>\n",
       "      <td>6</td>\n",
       "      <td>171.876937</td>\n",
       "    </tr>\n",
       "    <tr>\n",
       "      <th>7</th>\n",
       "      <td>2023</td>\n",
       "      <td>7</td>\n",
       "      <td>172.410037</td>\n",
       "    </tr>\n",
       "    <tr>\n",
       "      <th>8</th>\n",
       "      <td>2023</td>\n",
       "      <td>8</td>\n",
       "      <td>171.753666</td>\n",
       "    </tr>\n",
       "    <tr>\n",
       "      <th>9</th>\n",
       "      <td>2023</td>\n",
       "      <td>9</td>\n",
       "      <td>170.955468</td>\n",
       "    </tr>\n",
       "    <tr>\n",
       "      <th>10</th>\n",
       "      <td>2023</td>\n",
       "      <td>10</td>\n",
       "      <td>170.410898</td>\n",
       "    </tr>\n",
       "    <tr>\n",
       "      <th>11</th>\n",
       "      <td>2023</td>\n",
       "      <td>11</td>\n",
       "      <td>168.901637</td>\n",
       "    </tr>\n",
       "    <tr>\n",
       "      <th>12</th>\n",
       "      <td>2023</td>\n",
       "      <td>12</td>\n",
       "      <td>168.574593</td>\n",
       "    </tr>\n",
       "  </tbody>\n",
       "</table>\n",
       "</div>"
      ],
      "text/plain": [
       "    year  month       price\n",
       "0   2022     12  155.005255\n",
       "1   2023      1  163.891522\n",
       "2   2023      2  165.703327\n",
       "3   2023      3  164.839070\n",
       "4   2023      4  167.399223\n",
       "5   2023      5  169.680753\n",
       "6   2023      6  171.876937\n",
       "7   2023      7  172.410037\n",
       "8   2023      8  171.753666\n",
       "9   2023      9  170.955468\n",
       "10  2023     10  170.410898\n",
       "11  2023     11  168.901637\n",
       "12  2023     12  168.574593"
      ]
     },
     "execution_count": 11,
     "metadata": {},
     "output_type": "execute_result"
    }
   ],
   "source": [
    "monthly_avg_price"
   ]
  },
  {
   "cell_type": "code",
   "execution_count": 12,
   "metadata": {},
   "outputs": [
    {
     "data": {
      "text/html": [
       "<div>\n",
       "<style scoped>\n",
       "    .dataframe tbody tr th:only-of-type {\n",
       "        vertical-align: middle;\n",
       "    }\n",
       "\n",
       "    .dataframe tbody tr th {\n",
       "        vertical-align: top;\n",
       "    }\n",
       "\n",
       "    .dataframe thead th {\n",
       "        text-align: right;\n",
       "    }\n",
       "</style>\n",
       "<table border=\"1\" class=\"dataframe\">\n",
       "  <thead>\n",
       "    <tr style=\"text-align: right;\">\n",
       "      <th></th>\n",
       "      <th>year</th>\n",
       "      <th>month</th>\n",
       "      <th>price</th>\n",
       "      <th>booking_rate</th>\n",
       "    </tr>\n",
       "  </thead>\n",
       "  <tbody>\n",
       "    <tr>\n",
       "      <th>0</th>\n",
       "      <td>2022</td>\n",
       "      <td>12</td>\n",
       "      <td>155.005255</td>\n",
       "      <td>0.546428</td>\n",
       "    </tr>\n",
       "    <tr>\n",
       "      <th>1</th>\n",
       "      <td>2023</td>\n",
       "      <td>1</td>\n",
       "      <td>163.891522</td>\n",
       "      <td>0.405745</td>\n",
       "    </tr>\n",
       "    <tr>\n",
       "      <th>2</th>\n",
       "      <td>2023</td>\n",
       "      <td>2</td>\n",
       "      <td>165.703327</td>\n",
       "      <td>0.346060</td>\n",
       "    </tr>\n",
       "    <tr>\n",
       "      <th>3</th>\n",
       "      <td>2023</td>\n",
       "      <td>3</td>\n",
       "      <td>164.839070</td>\n",
       "      <td>0.397756</td>\n",
       "    </tr>\n",
       "    <tr>\n",
       "      <th>4</th>\n",
       "      <td>2023</td>\n",
       "      <td>4</td>\n",
       "      <td>167.399223</td>\n",
       "      <td>0.395305</td>\n",
       "    </tr>\n",
       "    <tr>\n",
       "      <th>5</th>\n",
       "      <td>2023</td>\n",
       "      <td>5</td>\n",
       "      <td>169.680753</td>\n",
       "      <td>0.379294</td>\n",
       "    </tr>\n",
       "    <tr>\n",
       "      <th>6</th>\n",
       "      <td>2023</td>\n",
       "      <td>6</td>\n",
       "      <td>171.876937</td>\n",
       "      <td>0.480532</td>\n",
       "    </tr>\n",
       "    <tr>\n",
       "      <th>7</th>\n",
       "      <td>2023</td>\n",
       "      <td>7</td>\n",
       "      <td>172.410037</td>\n",
       "      <td>0.492778</td>\n",
       "    </tr>\n",
       "    <tr>\n",
       "      <th>8</th>\n",
       "      <td>2023</td>\n",
       "      <td>8</td>\n",
       "      <td>171.753666</td>\n",
       "      <td>0.489069</td>\n",
       "    </tr>\n",
       "    <tr>\n",
       "      <th>9</th>\n",
       "      <td>2023</td>\n",
       "      <td>9</td>\n",
       "      <td>170.955468</td>\n",
       "      <td>0.513750</td>\n",
       "    </tr>\n",
       "    <tr>\n",
       "      <th>10</th>\n",
       "      <td>2023</td>\n",
       "      <td>10</td>\n",
       "      <td>170.410898</td>\n",
       "      <td>0.513478</td>\n",
       "    </tr>\n",
       "    <tr>\n",
       "      <th>11</th>\n",
       "      <td>2023</td>\n",
       "      <td>11</td>\n",
       "      <td>168.901637</td>\n",
       "      <td>0.514692</td>\n",
       "    </tr>\n",
       "    <tr>\n",
       "      <th>12</th>\n",
       "      <td>2023</td>\n",
       "      <td>12</td>\n",
       "      <td>168.574593</td>\n",
       "      <td>0.531845</td>\n",
       "    </tr>\n",
       "  </tbody>\n",
       "</table>\n",
       "</div>"
      ],
      "text/plain": [
       "    year  month       price  booking_rate\n",
       "0   2022     12  155.005255      0.546428\n",
       "1   2023      1  163.891522      0.405745\n",
       "2   2023      2  165.703327      0.346060\n",
       "3   2023      3  164.839070      0.397756\n",
       "4   2023      4  167.399223      0.395305\n",
       "5   2023      5  169.680753      0.379294\n",
       "6   2023      6  171.876937      0.480532\n",
       "7   2023      7  172.410037      0.492778\n",
       "8   2023      8  171.753666      0.489069\n",
       "9   2023      9  170.955468      0.513750\n",
       "10  2023     10  170.410898      0.513478\n",
       "11  2023     11  168.901637      0.514692\n",
       "12  2023     12  168.574593      0.531845"
      ]
     },
     "execution_count": 12,
     "metadata": {},
     "output_type": "execute_result"
    }
   ],
   "source": [
    "# create new dataframe with monthly_avg_price and booking_monthly_rate\n",
    "seasonality_df = monthly_avg_price\n",
    "seasonality_df = seasonality_df.merge(booking_monthly_rate, how='left', on=['month', 'year'])\n",
    "seasonality_df"
   ]
  },
  {
   "cell_type": "code",
   "execution_count": 13,
   "metadata": {},
   "outputs": [
    {
     "data": {
      "text/plain": [
       "0.04684208633917481"
      ]
     },
     "execution_count": 13,
     "metadata": {},
     "output_type": "execute_result"
    }
   ],
   "source": [
    "# compute correlation between two columns in pandas dataframe\n",
    "correlation = seasonality_df['price'].corr(seasonality_df['booking_rate'])    \n",
    "correlation"
   ]
  },
  {
   "cell_type": "code",
   "execution_count": 14,
   "metadata": {},
   "outputs": [
    {
     "data": {
      "text/html": [
       "<div>\n",
       "<style scoped>\n",
       "    .dataframe tbody tr th:only-of-type {\n",
       "        vertical-align: middle;\n",
       "    }\n",
       "\n",
       "    .dataframe tbody tr th {\n",
       "        vertical-align: top;\n",
       "    }\n",
       "\n",
       "    .dataframe thead th {\n",
       "        text-align: right;\n",
       "    }\n",
       "</style>\n",
       "<table border=\"1\" class=\"dataframe\">\n",
       "  <thead>\n",
       "    <tr style=\"text-align: right;\">\n",
       "      <th></th>\n",
       "      <th>weekday</th>\n",
       "      <th>price</th>\n",
       "    </tr>\n",
       "  </thead>\n",
       "  <tbody>\n",
       "    <tr>\n",
       "      <th>0</th>\n",
       "      <td>Monday</td>\n",
       "      <td>166.824098</td>\n",
       "    </tr>\n",
       "    <tr>\n",
       "      <th>1</th>\n",
       "      <td>Tuesday</td>\n",
       "      <td>166.709506</td>\n",
       "    </tr>\n",
       "    <tr>\n",
       "      <th>2</th>\n",
       "      <td>Wednesday</td>\n",
       "      <td>166.576078</td>\n",
       "    </tr>\n",
       "    <tr>\n",
       "      <th>3</th>\n",
       "      <td>Thursday</td>\n",
       "      <td>167.076633</td>\n",
       "    </tr>\n",
       "    <tr>\n",
       "      <th>4</th>\n",
       "      <td>Friday</td>\n",
       "      <td>170.441077</td>\n",
       "    </tr>\n",
       "    <tr>\n",
       "      <th>5</th>\n",
       "      <td>Saturday</td>\n",
       "      <td>170.622862</td>\n",
       "    </tr>\n",
       "    <tr>\n",
       "      <th>6</th>\n",
       "      <td>Sunday</td>\n",
       "      <td>167.508425</td>\n",
       "    </tr>\n",
       "  </tbody>\n",
       "</table>\n",
       "</div>"
      ],
      "text/plain": [
       "     weekday       price\n",
       "0     Monday  166.824098\n",
       "1    Tuesday  166.709506\n",
       "2  Wednesday  166.576078\n",
       "3   Thursday  167.076633\n",
       "4     Friday  170.441077\n",
       "5   Saturday  170.622862\n",
       "6     Sunday  167.508425"
      ]
     },
     "execution_count": 14,
     "metadata": {},
     "output_type": "execute_result"
    }
   ],
   "source": [
    "# Compute average price for a day in a week.\n",
    "weekday_avg_price = filtered_calendar.groupby('weekday')['price'].mean().reset_index()\n",
    "# add column names\n",
    "weekday_avg_price.name = 'Average Price'\n",
    "# replace index with weekday names\n",
    "weekday_avg_price.weekday = ['Monday', 'Tuesday', 'Wednesday', 'Thursday', 'Friday', 'Saturday', 'Sunday']\n",
    "weekday_avg_price"
   ]
  },
  {
   "cell_type": "code",
   "execution_count": 15,
   "metadata": {},
   "outputs": [
    {
     "data": {
      "application/vnd.plotly.v1+json": {
       "config": {
        "plotlyServerURL": "https://plot.ly"
       },
       "data": [
        {
         "alignmentgroup": "True",
         "hovertemplate": "Day of the Week=%{x}<br>Price ($)=%{y}<extra></extra>",
         "legendgroup": "",
         "marker": {
          "color": "#636efa",
          "pattern": {
           "shape": ""
          }
         },
         "name": "",
         "offsetgroup": "",
         "orientation": "v",
         "showlegend": false,
         "textposition": "auto",
         "type": "bar",
         "x": [
          "Monday",
          "Tuesday",
          "Wednesday",
          "Thursday",
          "Friday",
          "Saturday",
          "Sunday"
         ],
         "xaxis": "x",
         "y": [
          166.82409790738748,
          166.70950640369682,
          166.57607812910067,
          167.07663302912889,
          170.44107723367853,
          170.6228621097658,
          167.50842532952447
         ],
         "yaxis": "y"
        }
       ],
       "layout": {
        "barmode": "relative",
        "legend": {
         "tracegroupgap": 0
        },
        "template": {
         "data": {
          "bar": [
           {
            "error_x": {
             "color": "#2a3f5f"
            },
            "error_y": {
             "color": "#2a3f5f"
            },
            "marker": {
             "line": {
              "color": "#E5ECF6",
              "width": 0.5
             },
             "pattern": {
              "fillmode": "overlay",
              "size": 10,
              "solidity": 0.2
             }
            },
            "type": "bar"
           }
          ],
          "barpolar": [
           {
            "marker": {
             "line": {
              "color": "#E5ECF6",
              "width": 0.5
             },
             "pattern": {
              "fillmode": "overlay",
              "size": 10,
              "solidity": 0.2
             }
            },
            "type": "barpolar"
           }
          ],
          "carpet": [
           {
            "aaxis": {
             "endlinecolor": "#2a3f5f",
             "gridcolor": "white",
             "linecolor": "white",
             "minorgridcolor": "white",
             "startlinecolor": "#2a3f5f"
            },
            "baxis": {
             "endlinecolor": "#2a3f5f",
             "gridcolor": "white",
             "linecolor": "white",
             "minorgridcolor": "white",
             "startlinecolor": "#2a3f5f"
            },
            "type": "carpet"
           }
          ],
          "choropleth": [
           {
            "colorbar": {
             "outlinewidth": 0,
             "ticks": ""
            },
            "type": "choropleth"
           }
          ],
          "contour": [
           {
            "colorbar": {
             "outlinewidth": 0,
             "ticks": ""
            },
            "colorscale": [
             [
              0,
              "#0d0887"
             ],
             [
              0.1111111111111111,
              "#46039f"
             ],
             [
              0.2222222222222222,
              "#7201a8"
             ],
             [
              0.3333333333333333,
              "#9c179e"
             ],
             [
              0.4444444444444444,
              "#bd3786"
             ],
             [
              0.5555555555555556,
              "#d8576b"
             ],
             [
              0.6666666666666666,
              "#ed7953"
             ],
             [
              0.7777777777777778,
              "#fb9f3a"
             ],
             [
              0.8888888888888888,
              "#fdca26"
             ],
             [
              1,
              "#f0f921"
             ]
            ],
            "type": "contour"
           }
          ],
          "contourcarpet": [
           {
            "colorbar": {
             "outlinewidth": 0,
             "ticks": ""
            },
            "type": "contourcarpet"
           }
          ],
          "heatmap": [
           {
            "colorbar": {
             "outlinewidth": 0,
             "ticks": ""
            },
            "colorscale": [
             [
              0,
              "#0d0887"
             ],
             [
              0.1111111111111111,
              "#46039f"
             ],
             [
              0.2222222222222222,
              "#7201a8"
             ],
             [
              0.3333333333333333,
              "#9c179e"
             ],
             [
              0.4444444444444444,
              "#bd3786"
             ],
             [
              0.5555555555555556,
              "#d8576b"
             ],
             [
              0.6666666666666666,
              "#ed7953"
             ],
             [
              0.7777777777777778,
              "#fb9f3a"
             ],
             [
              0.8888888888888888,
              "#fdca26"
             ],
             [
              1,
              "#f0f921"
             ]
            ],
            "type": "heatmap"
           }
          ],
          "heatmapgl": [
           {
            "colorbar": {
             "outlinewidth": 0,
             "ticks": ""
            },
            "colorscale": [
             [
              0,
              "#0d0887"
             ],
             [
              0.1111111111111111,
              "#46039f"
             ],
             [
              0.2222222222222222,
              "#7201a8"
             ],
             [
              0.3333333333333333,
              "#9c179e"
             ],
             [
              0.4444444444444444,
              "#bd3786"
             ],
             [
              0.5555555555555556,
              "#d8576b"
             ],
             [
              0.6666666666666666,
              "#ed7953"
             ],
             [
              0.7777777777777778,
              "#fb9f3a"
             ],
             [
              0.8888888888888888,
              "#fdca26"
             ],
             [
              1,
              "#f0f921"
             ]
            ],
            "type": "heatmapgl"
           }
          ],
          "histogram": [
           {
            "marker": {
             "pattern": {
              "fillmode": "overlay",
              "size": 10,
              "solidity": 0.2
             }
            },
            "type": "histogram"
           }
          ],
          "histogram2d": [
           {
            "colorbar": {
             "outlinewidth": 0,
             "ticks": ""
            },
            "colorscale": [
             [
              0,
              "#0d0887"
             ],
             [
              0.1111111111111111,
              "#46039f"
             ],
             [
              0.2222222222222222,
              "#7201a8"
             ],
             [
              0.3333333333333333,
              "#9c179e"
             ],
             [
              0.4444444444444444,
              "#bd3786"
             ],
             [
              0.5555555555555556,
              "#d8576b"
             ],
             [
              0.6666666666666666,
              "#ed7953"
             ],
             [
              0.7777777777777778,
              "#fb9f3a"
             ],
             [
              0.8888888888888888,
              "#fdca26"
             ],
             [
              1,
              "#f0f921"
             ]
            ],
            "type": "histogram2d"
           }
          ],
          "histogram2dcontour": [
           {
            "colorbar": {
             "outlinewidth": 0,
             "ticks": ""
            },
            "colorscale": [
             [
              0,
              "#0d0887"
             ],
             [
              0.1111111111111111,
              "#46039f"
             ],
             [
              0.2222222222222222,
              "#7201a8"
             ],
             [
              0.3333333333333333,
              "#9c179e"
             ],
             [
              0.4444444444444444,
              "#bd3786"
             ],
             [
              0.5555555555555556,
              "#d8576b"
             ],
             [
              0.6666666666666666,
              "#ed7953"
             ],
             [
              0.7777777777777778,
              "#fb9f3a"
             ],
             [
              0.8888888888888888,
              "#fdca26"
             ],
             [
              1,
              "#f0f921"
             ]
            ],
            "type": "histogram2dcontour"
           }
          ],
          "mesh3d": [
           {
            "colorbar": {
             "outlinewidth": 0,
             "ticks": ""
            },
            "type": "mesh3d"
           }
          ],
          "parcoords": [
           {
            "line": {
             "colorbar": {
              "outlinewidth": 0,
              "ticks": ""
             }
            },
            "type": "parcoords"
           }
          ],
          "pie": [
           {
            "automargin": true,
            "type": "pie"
           }
          ],
          "scatter": [
           {
            "fillpattern": {
             "fillmode": "overlay",
             "size": 10,
             "solidity": 0.2
            },
            "type": "scatter"
           }
          ],
          "scatter3d": [
           {
            "line": {
             "colorbar": {
              "outlinewidth": 0,
              "ticks": ""
             }
            },
            "marker": {
             "colorbar": {
              "outlinewidth": 0,
              "ticks": ""
             }
            },
            "type": "scatter3d"
           }
          ],
          "scattercarpet": [
           {
            "marker": {
             "colorbar": {
              "outlinewidth": 0,
              "ticks": ""
             }
            },
            "type": "scattercarpet"
           }
          ],
          "scattergeo": [
           {
            "marker": {
             "colorbar": {
              "outlinewidth": 0,
              "ticks": ""
             }
            },
            "type": "scattergeo"
           }
          ],
          "scattergl": [
           {
            "marker": {
             "colorbar": {
              "outlinewidth": 0,
              "ticks": ""
             }
            },
            "type": "scattergl"
           }
          ],
          "scattermapbox": [
           {
            "marker": {
             "colorbar": {
              "outlinewidth": 0,
              "ticks": ""
             }
            },
            "type": "scattermapbox"
           }
          ],
          "scatterpolar": [
           {
            "marker": {
             "colorbar": {
              "outlinewidth": 0,
              "ticks": ""
             }
            },
            "type": "scatterpolar"
           }
          ],
          "scatterpolargl": [
           {
            "marker": {
             "colorbar": {
              "outlinewidth": 0,
              "ticks": ""
             }
            },
            "type": "scatterpolargl"
           }
          ],
          "scatterternary": [
           {
            "marker": {
             "colorbar": {
              "outlinewidth": 0,
              "ticks": ""
             }
            },
            "type": "scatterternary"
           }
          ],
          "surface": [
           {
            "colorbar": {
             "outlinewidth": 0,
             "ticks": ""
            },
            "colorscale": [
             [
              0,
              "#0d0887"
             ],
             [
              0.1111111111111111,
              "#46039f"
             ],
             [
              0.2222222222222222,
              "#7201a8"
             ],
             [
              0.3333333333333333,
              "#9c179e"
             ],
             [
              0.4444444444444444,
              "#bd3786"
             ],
             [
              0.5555555555555556,
              "#d8576b"
             ],
             [
              0.6666666666666666,
              "#ed7953"
             ],
             [
              0.7777777777777778,
              "#fb9f3a"
             ],
             [
              0.8888888888888888,
              "#fdca26"
             ],
             [
              1,
              "#f0f921"
             ]
            ],
            "type": "surface"
           }
          ],
          "table": [
           {
            "cells": {
             "fill": {
              "color": "#EBF0F8"
             },
             "line": {
              "color": "white"
             }
            },
            "header": {
             "fill": {
              "color": "#C8D4E3"
             },
             "line": {
              "color": "white"
             }
            },
            "type": "table"
           }
          ]
         },
         "layout": {
          "annotationdefaults": {
           "arrowcolor": "#2a3f5f",
           "arrowhead": 0,
           "arrowwidth": 1
          },
          "autotypenumbers": "strict",
          "coloraxis": {
           "colorbar": {
            "outlinewidth": 0,
            "ticks": ""
           }
          },
          "colorscale": {
           "diverging": [
            [
             0,
             "#8e0152"
            ],
            [
             0.1,
             "#c51b7d"
            ],
            [
             0.2,
             "#de77ae"
            ],
            [
             0.3,
             "#f1b6da"
            ],
            [
             0.4,
             "#fde0ef"
            ],
            [
             0.5,
             "#f7f7f7"
            ],
            [
             0.6,
             "#e6f5d0"
            ],
            [
             0.7,
             "#b8e186"
            ],
            [
             0.8,
             "#7fbc41"
            ],
            [
             0.9,
             "#4d9221"
            ],
            [
             1,
             "#276419"
            ]
           ],
           "sequential": [
            [
             0,
             "#0d0887"
            ],
            [
             0.1111111111111111,
             "#46039f"
            ],
            [
             0.2222222222222222,
             "#7201a8"
            ],
            [
             0.3333333333333333,
             "#9c179e"
            ],
            [
             0.4444444444444444,
             "#bd3786"
            ],
            [
             0.5555555555555556,
             "#d8576b"
            ],
            [
             0.6666666666666666,
             "#ed7953"
            ],
            [
             0.7777777777777778,
             "#fb9f3a"
            ],
            [
             0.8888888888888888,
             "#fdca26"
            ],
            [
             1,
             "#f0f921"
            ]
           ],
           "sequentialminus": [
            [
             0,
             "#0d0887"
            ],
            [
             0.1111111111111111,
             "#46039f"
            ],
            [
             0.2222222222222222,
             "#7201a8"
            ],
            [
             0.3333333333333333,
             "#9c179e"
            ],
            [
             0.4444444444444444,
             "#bd3786"
            ],
            [
             0.5555555555555556,
             "#d8576b"
            ],
            [
             0.6666666666666666,
             "#ed7953"
            ],
            [
             0.7777777777777778,
             "#fb9f3a"
            ],
            [
             0.8888888888888888,
             "#fdca26"
            ],
            [
             1,
             "#f0f921"
            ]
           ]
          },
          "colorway": [
           "#636efa",
           "#EF553B",
           "#00cc96",
           "#ab63fa",
           "#FFA15A",
           "#19d3f3",
           "#FF6692",
           "#B6E880",
           "#FF97FF",
           "#FECB52"
          ],
          "font": {
           "color": "#2a3f5f"
          },
          "geo": {
           "bgcolor": "white",
           "lakecolor": "white",
           "landcolor": "#E5ECF6",
           "showlakes": true,
           "showland": true,
           "subunitcolor": "white"
          },
          "hoverlabel": {
           "align": "left"
          },
          "hovermode": "closest",
          "mapbox": {
           "style": "light"
          },
          "paper_bgcolor": "white",
          "plot_bgcolor": "#E5ECF6",
          "polar": {
           "angularaxis": {
            "gridcolor": "white",
            "linecolor": "white",
            "ticks": ""
           },
           "bgcolor": "#E5ECF6",
           "radialaxis": {
            "gridcolor": "white",
            "linecolor": "white",
            "ticks": ""
           }
          },
          "scene": {
           "xaxis": {
            "backgroundcolor": "#E5ECF6",
            "gridcolor": "white",
            "gridwidth": 2,
            "linecolor": "white",
            "showbackground": true,
            "ticks": "",
            "zerolinecolor": "white"
           },
           "yaxis": {
            "backgroundcolor": "#E5ECF6",
            "gridcolor": "white",
            "gridwidth": 2,
            "linecolor": "white",
            "showbackground": true,
            "ticks": "",
            "zerolinecolor": "white"
           },
           "zaxis": {
            "backgroundcolor": "#E5ECF6",
            "gridcolor": "white",
            "gridwidth": 2,
            "linecolor": "white",
            "showbackground": true,
            "ticks": "",
            "zerolinecolor": "white"
           }
          },
          "shapedefaults": {
           "line": {
            "color": "#2a3f5f"
           }
          },
          "ternary": {
           "aaxis": {
            "gridcolor": "white",
            "linecolor": "white",
            "ticks": ""
           },
           "baxis": {
            "gridcolor": "white",
            "linecolor": "white",
            "ticks": ""
           },
           "bgcolor": "#E5ECF6",
           "caxis": {
            "gridcolor": "white",
            "linecolor": "white",
            "ticks": ""
           }
          },
          "title": {
           "x": 0.05
          },
          "xaxis": {
           "automargin": true,
           "gridcolor": "white",
           "linecolor": "white",
           "ticks": "",
           "title": {
            "standoff": 15
           },
           "zerolinecolor": "white",
           "zerolinewidth": 2
          },
          "yaxis": {
           "automargin": true,
           "gridcolor": "white",
           "linecolor": "white",
           "ticks": "",
           "title": {
            "standoff": 15
           },
           "zerolinecolor": "white",
           "zerolinewidth": 2
          }
         }
        },
        "title": {
         "text": "Average price for each Day of the Week",
         "x": 0.5
        },
        "width": 700,
        "xaxis": {
         "anchor": "y",
         "domain": [
          0,
          1
         ],
         "title": {
          "text": "Day of the Week"
         }
        },
        "yaxis": {
         "anchor": "x",
         "domain": [
          0,
          1
         ],
         "title": {
          "text": "Price ($)"
         }
        }
       }
      }
     },
     "metadata": {},
     "output_type": "display_data"
    }
   ],
   "source": [
    "import plotly.express as px\n",
    "import plotly.io as pio\n",
    "\n",
    "save_dir = '../../reports/figures/question_3/'\n",
    "\n",
    "# Bar plot of average price per weekday\n",
    "fig = px.bar(\n",
    "    weekday_avg_price,\n",
    "    x=\"weekday\",\n",
    "    y=\"price\",\n",
    "    title=\"Average price for each Day of the Week\",\n",
    "    labels={\n",
    "        \"weekday\": \"Day of the Week\",\n",
    "        \"price\": \"Price ($)\",\n",
    "    },\n",
    ")\n",
    "fig.update_layout(title_x = 0.5, width=700)\n",
    "fig.write_image(f'{save_dir}average_price_weekday.png')\n",
    "fig.show()\n",
    "    \n"
   ]
  },
  {
   "cell_type": "code",
   "execution_count": 18,
   "metadata": {},
   "outputs": [
    {
     "data": {
      "image/png": "[encoded data removed]",
      "text/plain": [
       "<PIL.PngImagePlugin.PngImageFile image mode=RGBA size=1400x1000>"
      ]
     },
     "metadata": {},
     "output_type": "display_data"
    }
   ],
   "source": [
    "import plotly.express as px\n",
    "import plotly.io as pio\n",
    "from PIL import Image\n",
    "from IPython.display import display\n",
    "\n",
    "save_dir = '../../reports/figures/question_3/'\n",
    "\n",
    "sampled_filtered_calendar = filtered_calendar.groupby('weekday').apply(lambda x: x.sample(frac=0.1, random_state=42))\n",
    "# Bar plot of average price per weekday\n",
    "fig = px.box(\n",
    "    sampled_filtered_calendar,\n",
    "    x=\"weekday\",\n",
    "    y=\"price\",\n",
    "    title=\"Average price for each Day of the Week\",\n",
    "    labels={\n",
    "        \"weekday\": \"Day of the Week\",\n",
    "        \"price\": \"Price ($)\",\n",
    "    },\n",
    ")\n",
    "fig.update_layout(title_x = 0.5, width=700)\n",
    "image_path = f'{save_dir}boxplot_average_price_weekday.png'\n",
    "fig.write_image(image_path,scale=2)\n",
    "# show image \n",
    "img = Image.open(image_path)\n",
    "display(img)"
   ]
  },
  {
   "cell_type": "code",
   "execution_count": 19,
   "metadata": {},
   "outputs": [
    {
     "name": "stdout",
     "output_type": "stream",
     "text": [
      "One-way ANOVA F-value: 481.08981323865015\n",
      "One-way ANOVA p-value: 0.0\n"
     ]
    }
   ],
   "source": [
    "from scipy import stats\n",
    "# Prepare data for ANOVA test\n",
    "week_days = [i for i in range(7)]\n",
    "weekday_groups = [filtered_calendar.loc[filtered_calendar['weekday'] == day, 'price'] for day in week_days]\n",
    "\n",
    "# Perform one-way ANOVA test (ref: https://docs.scipy.org/doc/scipy/reference/generated/scipy.stats.f_oneway.html)\n",
    "f_val, p_val = stats.f_oneway(*weekday_groups)\n",
    "print(f\"One-way ANOVA F-value: {f_val}\")\n",
    "print(f\"One-way ANOVA p-value: {p_val}\")"
   ]
  },
  {
   "cell_type": "code",
   "execution_count": 20,
   "metadata": {},
   "outputs": [
    {
     "data": {
      "text/html": [
       "<div>\n",
       "<style scoped>\n",
       "    .dataframe tbody tr th:only-of-type {\n",
       "        vertical-align: middle;\n",
       "    }\n",
       "\n",
       "    .dataframe tbody tr th {\n",
       "        vertical-align: top;\n",
       "    }\n",
       "\n",
       "    .dataframe thead th {\n",
       "        text-align: right;\n",
       "    }\n",
       "</style>\n",
       "<table border=\"1\" class=\"dataframe\">\n",
       "  <thead>\n",
       "    <tr style=\"text-align: right;\">\n",
       "      <th></th>\n",
       "      <th>count</th>\n",
       "      <th>mean</th>\n",
       "      <th>std</th>\n",
       "      <th>min</th>\n",
       "      <th>25%</th>\n",
       "      <th>50%</th>\n",
       "      <th>75%</th>\n",
       "      <th>max</th>\n",
       "    </tr>\n",
       "    <tr>\n",
       "      <th>weekday</th>\n",
       "      <th></th>\n",
       "      <th></th>\n",
       "      <th></th>\n",
       "      <th></th>\n",
       "      <th></th>\n",
       "      <th></th>\n",
       "      <th></th>\n",
       "      <th></th>\n",
       "    </tr>\n",
       "  </thead>\n",
       "  <tbody>\n",
       "    <tr>\n",
       "      <th>0</th>\n",
       "      <td>1906373.0</td>\n",
       "      <td>166.824098</td>\n",
       "      <td>110.885948</td>\n",
       "      <td>10.0</td>\n",
       "      <td>85.0</td>\n",
       "      <td>138.0</td>\n",
       "      <td>219.0</td>\n",
       "      <td>570.0</td>\n",
       "    </tr>\n",
       "    <tr>\n",
       "      <th>1</th>\n",
       "      <td>1913426.0</td>\n",
       "      <td>166.709506</td>\n",
       "      <td>110.825183</td>\n",
       "      <td>10.0</td>\n",
       "      <td>85.0</td>\n",
       "      <td>138.0</td>\n",
       "      <td>219.0</td>\n",
       "      <td>570.0</td>\n",
       "    </tr>\n",
       "    <tr>\n",
       "      <th>2</th>\n",
       "      <td>1935668.0</td>\n",
       "      <td>166.576078</td>\n",
       "      <td>110.659270</td>\n",
       "      <td>10.0</td>\n",
       "      <td>85.0</td>\n",
       "      <td>138.0</td>\n",
       "      <td>219.0</td>\n",
       "      <td>570.0</td>\n",
       "    </tr>\n",
       "    <tr>\n",
       "      <th>3</th>\n",
       "      <td>1902339.0</td>\n",
       "      <td>167.076633</td>\n",
       "      <td>111.059682</td>\n",
       "      <td>10.0</td>\n",
       "      <td>85.0</td>\n",
       "      <td>138.0</td>\n",
       "      <td>220.0</td>\n",
       "      <td>570.0</td>\n",
       "    </tr>\n",
       "    <tr>\n",
       "      <th>4</th>\n",
       "      <td>1883194.0</td>\n",
       "      <td>170.441077</td>\n",
       "      <td>113.220102</td>\n",
       "      <td>10.0</td>\n",
       "      <td>88.0</td>\n",
       "      <td>140.0</td>\n",
       "      <td>225.0</td>\n",
       "      <td>570.0</td>\n",
       "    </tr>\n",
       "    <tr>\n",
       "      <th>5</th>\n",
       "      <td>1882171.0</td>\n",
       "      <td>170.622862</td>\n",
       "      <td>113.367078</td>\n",
       "      <td>10.0</td>\n",
       "      <td>88.0</td>\n",
       "      <td>140.0</td>\n",
       "      <td>225.0</td>\n",
       "      <td>570.0</td>\n",
       "    </tr>\n",
       "    <tr>\n",
       "      <th>6</th>\n",
       "      <td>1901528.0</td>\n",
       "      <td>167.508425</td>\n",
       "      <td>111.408010</td>\n",
       "      <td>10.0</td>\n",
       "      <td>85.0</td>\n",
       "      <td>139.0</td>\n",
       "      <td>220.0</td>\n",
       "      <td>570.0</td>\n",
       "    </tr>\n",
       "  </tbody>\n",
       "</table>\n",
       "</div>"
      ],
      "text/plain": [
       "             count        mean         std   min   25%    50%    75%    max\n",
       "weekday                                                                    \n",
       "0        1906373.0  166.824098  110.885948  10.0  85.0  138.0  219.0  570.0\n",
       "1        1913426.0  166.709506  110.825183  10.0  85.0  138.0  219.0  570.0\n",
       "2        1935668.0  166.576078  110.659270  10.0  85.0  138.0  219.0  570.0\n",
       "3        1902339.0  167.076633  111.059682  10.0  85.0  138.0  220.0  570.0\n",
       "4        1883194.0  170.441077  113.220102  10.0  88.0  140.0  225.0  570.0\n",
       "5        1882171.0  170.622862  113.367078  10.0  88.0  140.0  225.0  570.0\n",
       "6        1901528.0  167.508425  111.408010  10.0  85.0  139.0  220.0  570.0"
      ]
     },
     "execution_count": 20,
     "metadata": {},
     "output_type": "execute_result"
    }
   ],
   "source": [
    "filtered_calendar.groupby('weekday')['price'].describe()"
   ]
  },
  {
   "cell_type": "markdown",
   "metadata": {},
   "source": [
    "## Impact of stay duration on listing prices"
   ]
  },
  {
   "cell_type": "code",
   "execution_count": 21,
   "metadata": {},
   "outputs": [
    {
     "name": "stderr",
     "output_type": "stream",
     "text": [
      "/var/folders/kk/3n5ft7ts6fjgmmp11zwz_ybh0000gn/T/ipykernel_30884/2369978462.py:23: SettingWithCopyWarning:\n",
      "\n",
      "\n",
      "A value is trying to be set on a copy of a slice from a DataFrame.\n",
      "Try using .loc[row_indexer,col_indexer] = value instead\n",
      "\n",
      "See the caveats in the documentation: https://pandas.pydata.org/pandas-docs/stable/user_guide/indexing.html#returning-a-view-versus-a-copy\n",
      "\n"
     ]
    },
    {
     "name": "stdout",
     "output_type": "stream",
     "text": [
      "Average Price By Stay Duration (stay_duration_bins\n",
      "1        158.457717\n",
      "2-3      216.556170\n",
      "4-7      204.774440\n",
      "8-14     175.778633\n",
      "15-30    147.681666\n",
      "30+      147.801556\n",
      "Name: price, dtype: float64):\n",
      "                        count        mean         std   min    25%    50%   \n",
      "stay_duration_bins                                                          \n",
      "1                   2455609.0  158.457717  107.859118  10.0   75.0  137.0  \\\n",
      "2-3                 2812632.0  216.556170  123.791784  10.0  120.0  191.0   \n",
      "4-7                  802913.0  204.774440  131.011093  10.0   95.0  176.0   \n",
      "8-14                 137717.0  175.778633  121.719213  22.0   71.0  148.0   \n",
      "15-30               5276909.0  147.681666  100.537936  10.0   80.0  115.0   \n",
      "30+                 1838910.0  147.801556   88.394747  10.0   85.0  130.0   \n",
      "\n",
      "                      75%    max  \n",
      "stay_duration_bins                \n",
      "1                   201.0  570.0  \n",
      "2-3                 297.0  570.0  \n",
      "4-7                 292.0  570.0  \n",
      "8-14                240.0  570.0  \n",
      "15-30               188.0  570.0  \n",
      "30+                 185.0  570.0  \n"
     ]
    },
    {
     "data": {
      "image/png": "[encoded data removed]",
      "text/plain": [
       "<PIL.PngImagePlugin.PngImageFile image mode=RGBA size=1400x1000>"
      ]
     },
     "metadata": {},
     "output_type": "display_data"
    },
    {
     "name": "stdout",
     "output_type": "stream",
     "text": [
      "One-way ANOVA F-value: 186785.18033824165\n",
      "One-way ANOVA p-value: 0.0\n"
     ]
    }
   ],
   "source": [
    "import numpy as np\n",
    "from scipy import stats\n",
    "import matplotlib.pyplot as plt\n",
    "import seaborn as sns\n",
    "\n",
    "def avg_price_vs_stay_duration(calendar, col_name, save_path):\n",
    "    \"\"\"\n",
    "    Create Bar plot for Average Price vs Stay duration and perform one-way ANOVA test.\n",
    "\n",
    "    Args:\n",
    "        col_name (str): Name of the column (stay duration)\n",
    "        save_path (str): Path to save the generated plot\n",
    "\n",
    "    Returns:\n",
    "        None\n",
    "    \"\"\"\n",
    "\n",
    "    # Create stay duration bins\n",
    "    stay_duration_bins = pd.cut(calendar[col_name], bins=[0, 1, 3, 7, 14, 30, np.inf], labels=['1', '2-3', '4-7', '8-14', '15-30', '30+'])\n",
    "\n",
    "    # Create a dataframe with price and stay duration\n",
    "    calendar_clean = calendar.dropna(subset=[col_name, 'price'])\n",
    "    calendar_clean['stay_duration_bins'] = stay_duration_bins\n",
    "\n",
    "    # sample calendar_clean (proportional)\n",
    "    sample_calendar_clean = calendar_clean.groupby('stay_duration_bins').apply(lambda x: x.sample(frac=0.1))\n",
    "\n",
    "    # Calculate average price based on stay duration\n",
    "    stay_duration_avg_price = calendar_clean.groupby('stay_duration_bins')['price'].mean()\n",
    "\n",
    "    print(f\"Average Price By Stay Duration ({stay_duration_avg_price}):\")\n",
    "    print(calendar_clean.groupby('stay_duration_bins')['price'].describe())\n",
    "\n",
    "    # Box plot Price vs Stay duration\n",
    "    fig = px.box(\n",
    "        sample_calendar_clean,\n",
    "        x='stay_duration_bins',\n",
    "        y='price',\n",
    "        title=f'Price By Stay Duration ({col_name})',\n",
    "        labels={'price': 'Price', 'stay_duration_bins': 'Stay Duration'},\n",
    "\n",
    "    )\n",
    "    fig.update_layout(title_x=0.5, width=700)\n",
    "    image_path = f'{save_path}/avg_price_vs_stay_duration_{col_name}.png'\n",
    "    fig.write_image(image_path, scale=2)\n",
    "    # show image \n",
    "    img = Image.open(image_path)\n",
    "    display(img)\n",
    "\n",
    "\n",
    "    # Prepare data for ANOVA test\n",
    "    stay_duration_groups = [calendar_clean.loc[calendar_clean['stay_duration_bins'] == bin, 'price'] for bin in stay_duration_bins.cat.categories]\n",
    "\n",
    "    # Perform one-way ANOVA test\n",
    "    f_val, p_val = stats.f_oneway(*stay_duration_groups)\n",
    "    print(f\"One-way ANOVA F-value: {f_val}\")\n",
    "    print(f\"One-way ANOVA p-value: {p_val}\")\n",
    "    \n",
    "\n",
    "dir_path='../../reports/figures/question_3/'\n",
    "avg_price_vs_stay_duration(filtered_calendar, 'minimum_nights', dir_path)\n",
    "\n"
   ]
  },
  {
   "cell_type": "code",
   "execution_count": 22,
   "metadata": {},
   "outputs": [
    {
     "name": "stderr",
     "output_type": "stream",
     "text": [
      "/var/folders/kk/3n5ft7ts6fjgmmp11zwz_ybh0000gn/T/ipykernel_30884/2369978462.py:23: SettingWithCopyWarning:\n",
      "\n",
      "\n",
      "A value is trying to be set on a copy of a slice from a DataFrame.\n",
      "Try using .loc[row_indexer,col_indexer] = value instead\n",
      "\n",
      "See the caveats in the documentation: https://pandas.pydata.org/pandas-docs/stable/user_guide/indexing.html#returning-a-view-versus-a-copy\n",
      "\n"
     ]
    },
    {
     "name": "stdout",
     "output_type": "stream",
     "text": [
      "Average Price By Stay Duration (stay_duration_bins\n",
      "1        235.130893\n",
      "2-3      129.929561\n",
      "4-7      141.895136\n",
      "8-14     163.508967\n",
      "15-30    185.064497\n",
      "30+      167.131377\n",
      "Name: price, dtype: float64):\n",
      "                         count        mean         std   min    25%    50%   \n",
      "stay_duration_bins                                                           \n",
      "1                      12155.0  235.130893  151.019951  28.0  100.0  200.0  \\\n",
      "2-3                    39708.0  129.929561   84.385124  17.0   75.0   99.0   \n",
      "4-7                   147305.0  141.895136  100.634015  17.0   74.0  115.0   \n",
      "8-14                  172864.0  163.508967  106.723549  10.0   80.0  134.0   \n",
      "15-30                 889067.0  185.064497  122.738452  17.0   89.0  150.0   \n",
      "30+                 12063591.0  167.131377  110.828763  10.0   86.0  138.0   \n",
      "\n",
      "                      75%    max  \n",
      "stay_duration_bins                \n",
      "1                   299.0  529.0  \n",
      "2-3                 179.0  529.0  \n",
      "4-7                 175.0  562.0  \n",
      "8-14                225.0  568.0  \n",
      "15-30               254.0  570.0  \n",
      "30+                 219.0  570.0  \n"
     ]
    },
    {
     "data": {
      "image/png": "[encoded data removed]",
      "text/plain": [
       "<PIL.PngImagePlugin.PngImageFile image mode=RGBA size=1400x1000>"
      ]
     },
     "metadata": {},
     "output_type": "display_data"
    },
    {
     "name": "stdout",
     "output_type": "stream",
     "text": [
      "One-way ANOVA F-value: 7791.874572710098\n",
      "One-way ANOVA p-value: 0.0\n"
     ]
    }
   ],
   "source": [
    "avg_price_vs_stay_duration(filtered_calendar, 'maximum_nights', save_dir)"
   ]
  },
  {
   "cell_type": "markdown",
   "metadata": {},
   "source": [
    "## Impact of availability on listing prices"
   ]
  },
  {
   "cell_type": "markdown",
   "metadata": {},
   "source": [
    "We try to analyse the relationship between availability and listing price.\n",
    "To simplify our work we segment our listings into 3 availability categories (low, medium, high) using percentiles."
   ]
  },
  {
   "cell_type": "code",
   "execution_count": 23,
   "metadata": {},
   "outputs": [
    {
     "data": {
      "image/png": "[encoded data removed]",
      "text/plain": [
       "<PIL.PngImagePlugin.PngImageFile image mode=RGBA size=1400x1000>"
      ]
     },
     "metadata": {},
     "output_type": "display_data"
    }
   ],
   "source": [
    "# drop rows with missing values in the 'price' column\n",
    "calendar_avail = filtered_calendar.dropna(subset=['price'])\n",
    "\n",
    "# Calculate the number of available days for each listing\n",
    "availability_count = calendar_avail.groupby('listing_id')['available'].sum().rename('num_available_days')\n",
    "calendar_avail = calendar_avail.merge(availability_count, on='listing_id')\n",
    "\n",
    "# Group the number of available days into 3 categories based on the data distribution\n",
    "quantiles = [0, .33, .66, 1.]\n",
    "categories = ['low', 'medium', 'high']\n",
    "calendar_avail['availability_category'] = pd.qcut(calendar_avail['num_available_days'], q=quantiles, labels=categories)\n",
    "\n",
    "# sample calendendar_avail propertionally to availability category\n",
    "sample_calendar_avail = calendar_avail.groupby('availability_category').apply(lambda x: x.sample(frac=0.1, random_state=42))\n",
    "\n",
    "# Calculate the average price for each availability category\n",
    "avg_price_by_availability = calendar_avail.groupby('availability_category')['price'].mean().reset_index()\n",
    "\n",
    "# Box Plot price vs availability category\n",
    "fig = px.box(\n",
    "    sample_calendar_avail,\n",
    "    x='availability_category',\n",
    "    y='price',\n",
    "    title='Boxplot of Price by Availability Category',\n",
    "    labels={\n",
    "        'availability_category': 'Availability Category',\n",
    "        'price': 'Price ($)'\n",
    "    }\n",
    ")\n",
    "fig.update_layout(title_x=0.5, width=700)\n",
    "image_path = f'{dir_path}/boxplot_price_availability_category.png'\n",
    "fig.write_image(image_path,scale=2)\n",
    "# show image \n",
    "img = Image.open(image_path)\n",
    "display(img)"
   ]
  },
  {
   "cell_type": "code",
   "execution_count": 24,
   "metadata": {},
   "outputs": [
    {
     "data": {
      "text/plain": [
       "count    37529.000000\n",
       "mean       189.008020\n",
       "std        142.512962\n",
       "min          0.000000\n",
       "25%         49.000000\n",
       "50%        179.000000\n",
       "75%        341.000000\n",
       "max        366.000000\n",
       "Name: num_available_days, dtype: float64"
      ]
     },
     "execution_count": 24,
     "metadata": {},
     "output_type": "execute_result"
    }
   ],
   "source": [
    "availability_count.describe()"
   ]
  },
  {
   "cell_type": "code",
   "execution_count": 25,
   "metadata": {},
   "outputs": [
    {
     "data": {
      "text/html": [
       "<div>\n",
       "<style scoped>\n",
       "    .dataframe tbody tr th:only-of-type {\n",
       "        vertical-align: middle;\n",
       "    }\n",
       "\n",
       "    .dataframe tbody tr th {\n",
       "        vertical-align: top;\n",
       "    }\n",
       "\n",
       "    .dataframe thead th {\n",
       "        text-align: right;\n",
       "    }\n",
       "</style>\n",
       "<table border=\"1\" class=\"dataframe\">\n",
       "  <thead>\n",
       "    <tr style=\"text-align: right;\">\n",
       "      <th></th>\n",
       "      <th>listing_id</th>\n",
       "      <th>date</th>\n",
       "      <th>available</th>\n",
       "      <th>price</th>\n",
       "      <th>adjusted_price</th>\n",
       "      <th>minimum_nights</th>\n",
       "      <th>maximum_nights</th>\n",
       "      <th>month</th>\n",
       "      <th>year</th>\n",
       "      <th>weekday</th>\n",
       "      <th>num_available_days</th>\n",
       "      <th>availability_category</th>\n",
       "    </tr>\n",
       "  </thead>\n",
       "  <tbody>\n",
       "    <tr>\n",
       "      <th>0</th>\n",
       "      <td>109</td>\n",
       "      <td>2022-12-07</td>\n",
       "      <td>0</td>\n",
       "      <td>115.0</td>\n",
       "      <td>$115.00</td>\n",
       "      <td>30.0</td>\n",
       "      <td>730.0</td>\n",
       "      <td>12</td>\n",
       "      <td>2022</td>\n",
       "      <td>2</td>\n",
       "      <td>227</td>\n",
       "      <td>medium</td>\n",
       "    </tr>\n",
       "    <tr>\n",
       "      <th>1</th>\n",
       "      <td>109</td>\n",
       "      <td>2022-12-08</td>\n",
       "      <td>0</td>\n",
       "      <td>115.0</td>\n",
       "      <td>$115.00</td>\n",
       "      <td>30.0</td>\n",
       "      <td>730.0</td>\n",
       "      <td>12</td>\n",
       "      <td>2022</td>\n",
       "      <td>3</td>\n",
       "      <td>227</td>\n",
       "      <td>medium</td>\n",
       "    </tr>\n",
       "    <tr>\n",
       "      <th>2</th>\n",
       "      <td>109</td>\n",
       "      <td>2022-12-09</td>\n",
       "      <td>0</td>\n",
       "      <td>115.0</td>\n",
       "      <td>$115.00</td>\n",
       "      <td>30.0</td>\n",
       "      <td>730.0</td>\n",
       "      <td>12</td>\n",
       "      <td>2022</td>\n",
       "      <td>4</td>\n",
       "      <td>227</td>\n",
       "      <td>medium</td>\n",
       "    </tr>\n",
       "    <tr>\n",
       "      <th>3</th>\n",
       "      <td>109</td>\n",
       "      <td>2022-12-10</td>\n",
       "      <td>0</td>\n",
       "      <td>115.0</td>\n",
       "      <td>$115.00</td>\n",
       "      <td>30.0</td>\n",
       "      <td>730.0</td>\n",
       "      <td>12</td>\n",
       "      <td>2022</td>\n",
       "      <td>5</td>\n",
       "      <td>227</td>\n",
       "      <td>medium</td>\n",
       "    </tr>\n",
       "    <tr>\n",
       "      <th>4</th>\n",
       "      <td>109</td>\n",
       "      <td>2022-12-11</td>\n",
       "      <td>0</td>\n",
       "      <td>115.0</td>\n",
       "      <td>$115.00</td>\n",
       "      <td>30.0</td>\n",
       "      <td>730.0</td>\n",
       "      <td>12</td>\n",
       "      <td>2022</td>\n",
       "      <td>6</td>\n",
       "      <td>227</td>\n",
       "      <td>medium</td>\n",
       "    </tr>\n",
       "    <tr>\n",
       "      <th>...</th>\n",
       "      <td>...</td>\n",
       "      <td>...</td>\n",
       "      <td>...</td>\n",
       "      <td>...</td>\n",
       "      <td>...</td>\n",
       "      <td>...</td>\n",
       "      <td>...</td>\n",
       "      <td>...</td>\n",
       "      <td>...</td>\n",
       "      <td>...</td>\n",
       "      <td>...</td>\n",
       "      <td>...</td>\n",
       "    </tr>\n",
       "    <tr>\n",
       "      <th>13324694</th>\n",
       "      <td>49796933</td>\n",
       "      <td>2023-12-03</td>\n",
       "      <td>1</td>\n",
       "      <td>215.0</td>\n",
       "      <td>$215.00</td>\n",
       "      <td>30.0</td>\n",
       "      <td>1125.0</td>\n",
       "      <td>12</td>\n",
       "      <td>2023</td>\n",
       "      <td>6</td>\n",
       "      <td>4</td>\n",
       "      <td>low</td>\n",
       "    </tr>\n",
       "    <tr>\n",
       "      <th>13324695</th>\n",
       "      <td>49796933</td>\n",
       "      <td>2023-12-04</td>\n",
       "      <td>1</td>\n",
       "      <td>215.0</td>\n",
       "      <td>$215.00</td>\n",
       "      <td>30.0</td>\n",
       "      <td>1125.0</td>\n",
       "      <td>12</td>\n",
       "      <td>2023</td>\n",
       "      <td>0</td>\n",
       "      <td>4</td>\n",
       "      <td>low</td>\n",
       "    </tr>\n",
       "    <tr>\n",
       "      <th>13324696</th>\n",
       "      <td>49796933</td>\n",
       "      <td>2023-12-05</td>\n",
       "      <td>1</td>\n",
       "      <td>215.0</td>\n",
       "      <td>$215.00</td>\n",
       "      <td>30.0</td>\n",
       "      <td>1125.0</td>\n",
       "      <td>12</td>\n",
       "      <td>2023</td>\n",
       "      <td>1</td>\n",
       "      <td>4</td>\n",
       "      <td>low</td>\n",
       "    </tr>\n",
       "    <tr>\n",
       "      <th>13324697</th>\n",
       "      <td>49796933</td>\n",
       "      <td>2023-12-06</td>\n",
       "      <td>1</td>\n",
       "      <td>215.0</td>\n",
       "      <td>$215.00</td>\n",
       "      <td>30.0</td>\n",
       "      <td>1125.0</td>\n",
       "      <td>12</td>\n",
       "      <td>2023</td>\n",
       "      <td>2</td>\n",
       "      <td>4</td>\n",
       "      <td>low</td>\n",
       "    </tr>\n",
       "    <tr>\n",
       "      <th>13324698</th>\n",
       "      <td>558860571162663963</td>\n",
       "      <td>2023-12-06</td>\n",
       "      <td>0</td>\n",
       "      <td>203.0</td>\n",
       "      <td>$203.00</td>\n",
       "      <td>2.0</td>\n",
       "      <td>1125.0</td>\n",
       "      <td>12</td>\n",
       "      <td>2023</td>\n",
       "      <td>2</td>\n",
       "      <td>0</td>\n",
       "      <td>low</td>\n",
       "    </tr>\n",
       "  </tbody>\n",
       "</table>\n",
       "<p>13324699 rows × 12 columns</p>\n",
       "</div>"
      ],
      "text/plain": [
       "                  listing_id       date  available  price adjusted_price   \n",
       "0                        109 2022-12-07          0  115.0        $115.00  \\\n",
       "1                        109 2022-12-08          0  115.0        $115.00   \n",
       "2                        109 2022-12-09          0  115.0        $115.00   \n",
       "3                        109 2022-12-10          0  115.0        $115.00   \n",
       "4                        109 2022-12-11          0  115.0        $115.00   \n",
       "...                      ...        ...        ...    ...            ...   \n",
       "13324694            49796933 2023-12-03          1  215.0        $215.00   \n",
       "13324695            49796933 2023-12-04          1  215.0        $215.00   \n",
       "13324696            49796933 2023-12-05          1  215.0        $215.00   \n",
       "13324697            49796933 2023-12-06          1  215.0        $215.00   \n",
       "13324698  558860571162663963 2023-12-06          0  203.0        $203.00   \n",
       "\n",
       "          minimum_nights  maximum_nights  month  year  weekday   \n",
       "0                   30.0           730.0     12  2022        2  \\\n",
       "1                   30.0           730.0     12  2022        3   \n",
       "2                   30.0           730.0     12  2022        4   \n",
       "3                   30.0           730.0     12  2022        5   \n",
       "4                   30.0           730.0     12  2022        6   \n",
       "...                  ...             ...    ...   ...      ...   \n",
       "13324694            30.0          1125.0     12  2023        6   \n",
       "13324695            30.0          1125.0     12  2023        0   \n",
       "13324696            30.0          1125.0     12  2023        1   \n",
       "13324697            30.0          1125.0     12  2023        2   \n",
       "13324698             2.0          1125.0     12  2023        2   \n",
       "\n",
       "          num_available_days availability_category  \n",
       "0                        227                medium  \n",
       "1                        227                medium  \n",
       "2                        227                medium  \n",
       "3                        227                medium  \n",
       "4                        227                medium  \n",
       "...                      ...                   ...  \n",
       "13324694                   4                   low  \n",
       "13324695                   4                   low  \n",
       "13324696                   4                   low  \n",
       "13324697                   4                   low  \n",
       "13324698                   0                   low  \n",
       "\n",
       "[13324699 rows x 12 columns]"
      ]
     },
     "execution_count": 25,
     "metadata": {},
     "output_type": "execute_result"
    }
   ],
   "source": [
    "calendar_avail"
   ]
  },
  {
   "cell_type": "code",
   "execution_count": 26,
   "metadata": {},
   "outputs": [
    {
     "data": {
      "text/html": [
       "<div>\n",
       "<style scoped>\n",
       "    .dataframe tbody tr th:only-of-type {\n",
       "        vertical-align: middle;\n",
       "    }\n",
       "\n",
       "    .dataframe tbody tr th {\n",
       "        vertical-align: top;\n",
       "    }\n",
       "\n",
       "    .dataframe thead th {\n",
       "        text-align: right;\n",
       "    }\n",
       "</style>\n",
       "<table border=\"1\" class=\"dataframe\">\n",
       "  <thead>\n",
       "    <tr style=\"text-align: right;\">\n",
       "      <th></th>\n",
       "      <th>availability_category</th>\n",
       "      <th>price</th>\n",
       "    </tr>\n",
       "  </thead>\n",
       "  <tbody>\n",
       "    <tr>\n",
       "      <th>0</th>\n",
       "      <td>low</td>\n",
       "      <td>155.330206</td>\n",
       "    </tr>\n",
       "    <tr>\n",
       "      <th>1</th>\n",
       "      <td>medium</td>\n",
       "      <td>187.923673</td>\n",
       "    </tr>\n",
       "    <tr>\n",
       "      <th>2</th>\n",
       "      <td>high</td>\n",
       "      <td>160.944787</td>\n",
       "    </tr>\n",
       "  </tbody>\n",
       "</table>\n",
       "</div>"
      ],
      "text/plain": [
       "  availability_category       price\n",
       "0                   low  155.330206\n",
       "1                medium  187.923673\n",
       "2                  high  160.944787"
      ]
     },
     "execution_count": 26,
     "metadata": {},
     "output_type": "execute_result"
    }
   ],
   "source": [
    "avg_price_by_availability"
   ]
  },
  {
   "cell_type": "code",
   "execution_count": 27,
   "metadata": {},
   "outputs": [
    {
     "data": {
      "text/html": [
       "<div>\n",
       "<style scoped>\n",
       "    .dataframe tbody tr th:only-of-type {\n",
       "        vertical-align: middle;\n",
       "    }\n",
       "\n",
       "    .dataframe tbody tr th {\n",
       "        vertical-align: top;\n",
       "    }\n",
       "\n",
       "    .dataframe thead th {\n",
       "        text-align: right;\n",
       "    }\n",
       "</style>\n",
       "<table border=\"1\" class=\"dataframe\">\n",
       "  <thead>\n",
       "    <tr style=\"text-align: right;\">\n",
       "      <th></th>\n",
       "      <th>count</th>\n",
       "      <th>mean</th>\n",
       "      <th>std</th>\n",
       "      <th>min</th>\n",
       "      <th>25%</th>\n",
       "      <th>50%</th>\n",
       "      <th>75%</th>\n",
       "      <th>max</th>\n",
       "    </tr>\n",
       "    <tr>\n",
       "      <th>availability_category</th>\n",
       "      <th></th>\n",
       "      <th></th>\n",
       "      <th></th>\n",
       "      <th></th>\n",
       "      <th></th>\n",
       "      <th></th>\n",
       "      <th></th>\n",
       "      <th></th>\n",
       "    </tr>\n",
       "  </thead>\n",
       "  <tbody>\n",
       "    <tr>\n",
       "      <th>low</th>\n",
       "      <td>4424247.0</td>\n",
       "      <td>155.330206</td>\n",
       "      <td>111.656905</td>\n",
       "      <td>10.0</td>\n",
       "      <td>75.0</td>\n",
       "      <td>120.0</td>\n",
       "      <td>200.0</td>\n",
       "      <td>570.0</td>\n",
       "    </tr>\n",
       "    <tr>\n",
       "      <th>medium</th>\n",
       "      <td>4382096.0</td>\n",
       "      <td>187.923673</td>\n",
       "      <td>118.150786</td>\n",
       "      <td>10.0</td>\n",
       "      <td>99.0</td>\n",
       "      <td>155.0</td>\n",
       "      <td>250.0</td>\n",
       "      <td>570.0</td>\n",
       "    </tr>\n",
       "    <tr>\n",
       "      <th>high</th>\n",
       "      <td>4518356.0</td>\n",
       "      <td>160.944787</td>\n",
       "      <td>102.066783</td>\n",
       "      <td>10.0</td>\n",
       "      <td>89.0</td>\n",
       "      <td>138.0</td>\n",
       "      <td>203.0</td>\n",
       "      <td>570.0</td>\n",
       "    </tr>\n",
       "  </tbody>\n",
       "</table>\n",
       "</div>"
      ],
      "text/plain": [
       "                           count        mean         std   min   25%    50%   \n",
       "availability_category                                                         \n",
       "low                    4424247.0  155.330206  111.656905  10.0  75.0  120.0  \\\n",
       "medium                 4382096.0  187.923673  118.150786  10.0  99.0  155.0   \n",
       "high                   4518356.0  160.944787  102.066783  10.0  89.0  138.0   \n",
       "\n",
       "                         75%    max  \n",
       "availability_category                \n",
       "low                    200.0  570.0  \n",
       "medium                 250.0  570.0  \n",
       "high                   203.0  570.0  "
      ]
     },
     "execution_count": 27,
     "metadata": {},
     "output_type": "execute_result"
    }
   ],
   "source": [
    "calendar_avail.groupby('availability_category')['price'].describe()"
   ]
  },
  {
   "cell_type": "code",
   "execution_count": 28,
   "metadata": {},
   "outputs": [
    {
     "name": "stdout",
     "output_type": "stream",
     "text": [
      "F-statistic:  109049.65606328653\n",
      "p-value:  0.0\n"
     ]
    }
   ],
   "source": [
    "# Perform one-way ANOVA statistical test to check if the mean of the three groups differs significantly.\n",
    "Low_avail = calendar_avail[calendar_avail['availability_category']=='low']['price']\n",
    "Mid_avail = calendar_avail[calendar_avail['availability_category']=='medium']['price']\n",
    "High_avail = calendar_avail[calendar_avail['availability_category']=='high']['price']\n",
    "f_stat, p_value = stats.f_oneway(Low_avail, Mid_avail, High_avail)\n",
    "print('F-statistic: ', f_stat)\n",
    "print('p-value: ', p_value)"
   ]
  },
  {
   "cell_type": "markdown",
   "metadata": {},
   "source": [
    "## Joint effect of availability and stay duration on listing price"
   ]
  },
  {
   "cell_type": "code",
   "execution_count": 29,
   "metadata": {},
   "outputs": [
    {
     "name": "stderr",
     "output_type": "stream",
     "text": [
      "/var/folders/kk/3n5ft7ts6fjgmmp11zwz_ybh0000gn/T/ipykernel_30884/1005379951.py:7: SettingWithCopyWarning:\n",
      "\n",
      "\n",
      "A value is trying to be set on a copy of a slice from a DataFrame.\n",
      "Try using .loc[row_indexer,col_indexer] = value instead\n",
      "\n",
      "See the caveats in the documentation: https://pandas.pydata.org/pandas-docs/stable/user_guide/indexing.html#returning-a-view-versus-a-copy\n",
      "\n"
     ]
    },
    {
     "name": "stdout",
     "output_type": "stream",
     "text": [
      "availability_category         low      medium        high\n",
      "min_nights_bin                                           \n",
      "1                      306.013709  294.715167  280.811896\n",
      "2-3                    306.241380  365.091059  529.846124\n",
      "4-7                    343.686500  526.660286  769.761427\n",
      "8-14                   293.493657  323.538552  666.092188\n",
      "15-30                  210.140124  233.241461  330.381149\n",
      "30+                    224.516609  180.845349  229.439123\n"
     ]
    },
    {
     "data": {
      "image/png": "[encoded data removed]",
      "text/plain": [
       "<PIL.PngImagePlugin.PngImageFile image mode=RGBA size=1400x1000>"
      ]
     },
     "metadata": {},
     "output_type": "display_data"
    }
   ],
   "source": [
    "import seaborn as sns\n",
    "import numpy as np\n",
    "\n",
    "calendar_avail = calendar.dropna(subset=['price'])\n",
    "\n",
    "# Create stay duration bins for minimum_nights and maximum_nights\n",
    "calendar_avail['min_nights_bin'] = pd.cut(calendar_avail['minimum_nights'], bins=[0, 1, 3, 7, 14, 30, np.inf], labels=['1', '2-3', '4-7', '8-14', '15-30', '30+'])\n",
    "\n",
    "# Calculate the number of available days for each listing\n",
    "availability_count = calendar_avail.groupby('listing_id')['available'].sum().rename('num_available_days')\n",
    "calendar_avail = calendar_avail.merge(availability_count, on='listing_id')\n",
    "\n",
    "# Group the number of available days into 3 categories based on the data distribution\n",
    "calendar_avail['availability_category'] = pd.qcut(calendar_avail['num_available_days'], q=[0, .33, .66, 1], labels=['low', 'medium', 'high'])\n",
    "\n",
    "# Calculate the average price for each combination of availability category and stay duration\n",
    "availability_stay_duration_price = calendar_avail.groupby(['availability_category', 'min_nights_bin'])['price'].mean().reset_index()\n",
    "\n",
    "# Create a pivot table with average prices for each combination of availability category and stay duration\n",
    "pivot_table_min = availability_stay_duration_price.pivot_table(index=['min_nights_bin'], columns='availability_category', values='price')\n",
    "print(pivot_table_min)\n",
    "\n",
    "# Plot the heatmap\n",
    "fig = px.imshow(\n",
    "    pivot_table_min,\n",
    "    labels=dict(x=\"Availability Category\", y=\"Minimum Nights\", color=\"Average Price ($)\"),\n",
    "    x=pivot_table_min.columns,\n",
    "    y=pivot_table_min.index,\n",
    "    title= 'Average Price by Minimum Nights for Each Availability Category'\n",
    ")\n",
    "fig.update_layout(title_x=0.5, width=700)\n",
    "image_path = f\"{save_dir}avg_price_min_nights_availability_category.png\"\n",
    "fig.write_image(image_path,scale=2)\n",
    "# show image \n",
    "img = Image.open(image_path)\n",
    "display(img)\n",
    "\n"
   ]
  },
  {
   "cell_type": "code",
   "execution_count": null,
   "metadata": {},
   "outputs": [],
   "source": []
  }
 ],
 "metadata": {
  "kernelspec": {
   "display_name": ".venv",
   "language": "python",
   "name": "python3"
  },
  "language_info": {
   "codemirror_mode": {
    "name": "ipython",
    "version": 3
   },
   "file_extension": ".py",
   "mimetype": "text/x-python",
   "name": "python",
   "nbconvert_exporter": "python",
   "pygments_lexer": "ipython3",
   "version": "3.9.12"
  },
  "orig_nbformat": 4
 },
 "nbformat": 4,
 "nbformat_minor": 2
}
